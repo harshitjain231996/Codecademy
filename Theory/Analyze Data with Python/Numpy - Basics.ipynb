{
 "cells": [
  {
   "cell_type": "markdown",
   "metadata": {},
   "source": [
    "## NumPy Arrays\n",
    "\n",
    "NumPy includes a powerful data structure known as an array. A NumPy array is a special type of list. It’s a data structure that organizes multiple items. Each item can be of any type (strings, numbers, or even other arrays).\n",
    "\n",
    "Arrays are most powerful when they are used to store numbers. This is because arrays give us special ways of performing mathematical operations that are both simpler to write and more efficient computationally.\n",
    "\n",
    "A NumPy array looks a lot like a Python list:\n",
    "\n",
    "my_array = np.array([1, 2, 3, 4, 5, 6])'\n",
    "\n",
    "We can transform a regular list into a NumPy array by using np.array() and saving the value to a new variable:\n",
    "\n",
    "my_list = [1, 2, 3, 4, 5, 6]\n",
    "\n",
    "my_array = np.array(my_list)"
   ]
  },
  {
   "cell_type": "markdown",
   "metadata": {},
   "source": [
    "## Creating an Array from a CSV\n",
    "\n",
    "Typically, one won’t be entering data directly into an array. Instead, we’ll be importing the data from somewhere else.\n",
    "\n",
    "We’re able to transform CSV (comma-separated values) files into arrays using the np.genfromtxt() function:\n",
    "\n",
    "We can import this into a NumPy array using the following code:\n",
    "\n",
    "csv_array = np.genfromtxt('sample.csv', delimiter=',')\n",
    "\n",
    "Note that in this case, our file sample.csv has values separated by commas, so we use delimiter=',', but sometimes you’ll find files with other delimiters, the most common being tabs or colons.\n",
    "\n",
    "![p](https://i.imgur.com/4eBW899.jpg)\n"
   ]
  },
  {
   "cell_type": "markdown",
   "metadata": {},
   "source": [
    "## Operations with NumPy Arrays\n",
    "\n",
    "Generally, NumPy arrays are more efficient than lists. One reason is that they allow you to do element-wise operations. An element-wise operation allows you to quickly perform an operation, such as addition, on each element in an array.\n",
    "\n",
    "![p](https://i.imgur.com/Q8t8tKJ.jpg)\n",
    "\n",
    "![p](https://i.imgur.com/kU9lUJh.jpg)\n",
    "\n",
    "![p](https://i.imgur.com/sn7Axfy.jpg)"
   ]
  },
  {
   "cell_type": "markdown",
   "metadata": {},
   "source": [
    "Arrays can also be added to or subtracted from each other in NumPy, assuming the arrays have the same number of elements.\n",
    "\n",
    "When adding or subtracting arrays in NumPy, each element will be added/subtracted to its matching element.\n",
    "\n",
    "![p](https://i.imgur.com/2nuKlx9.jpg)"
   ]
  },
  {
   "cell_type": "markdown",
   "metadata": {},
   "source": [
    "## Two-Dimensional Arrays\n",
    "\n",
    "In Python, we can create lists that are made up of other lists. Similarly, in NumPy we can create an array of arrays. If the arrays that make up our bigger array are all the same size, then it has a special name: a two-dimensional array.\n",
    "\n",
    "![p](https://i.imgur.com/535jl4i.jpg)\n",
    "\n",
    "![p](https://i.imgur.com/RrLqAA2.jpg)\n",
    "\n",
    "![p](https://i.imgur.com/rKuE11E.jpg)"
   ]
  },
  {
   "cell_type": "markdown",
   "metadata": {},
   "source": [
    "## Selecting Elements from a 1-D Array\n",
    "\n",
    "NumPy allows us to select elements from an array using their indices. In typical Python fashion, the indices for an array start at 0. This is known as zero-indexed numbering. In the array above, 5 is known as the zeroth element, a[0]. It follows that 2 is the first element, a[1].\n",
    "\n",
    "We can also select negative indices, which count from opposite end of the array and start at -1. This is particularly useful when you want to access the last element or two of an array.\n",
    "\n",
    "If we wanted to select multiple elements in the array, we can define a range, such as a[1:3], which will select all the elements from a[1] to a[3], including a[1] but excluding a[3].\n",
    "\n",
    "Similarly, if we wanted to select all elements before a[3] we would use: a[:3]\n",
    "\n",
    "We can also use negative indices to select multiple elements. Let’s say we want to select the last 3 elements in an array: \n",
    "\n",
    "a[-3:]\n",
    "\n",
    "![p](https://i.imgur.com/ytuU8xl.jpg)"
   ]
  },
  {
   "cell_type": "markdown",
   "metadata": {},
   "source": [
    "## Selecting Elements from a 2-D Array\n",
    "\n",
    "Selecting elements from a 2-d array is very similar to selecting them from a 1-d array, we just have two indices to select from. The syntax for selecting from a 2-d array is a[row,column] where a is the array.\n",
    "\n",
    "It’s important to note that when we work with arrays that have more than one dimension, the relationship between the interior arrays is defined in terms of axes. A two-dimensional array has two axes: axis 0 represents the values that share the same indexical position (are in the same column), and axis 1 represents the values that share an array (are in the same row).\n",
    "\n",
    "![p](https://i.imgur.com/LLS60ZO.jpg)\n",
    "\n",
    "![p](https://i.imgur.com/DQypCiV.jpg)\n",
    "\n",
    "![p](https://i.imgur.com/FYQLog0.jpg)"
   ]
  },
  {
   "cell_type": "markdown",
   "metadata": {},
   "source": [
    "## Logical Operations with Arrays\n",
    "\n",
    "Another useful thing that arrays can do is perform element-wise logical operations. For instance, suppose we want to know how many elements in an array are greater than 5. We can easily write some code that checks to see whether this statement evaluates to True for each item in the array, without having to use a for loop :\n",
    "\n",
    "![p](https://i.imgur.com/g2GFyED.jpg)\n",
    "\n",
    "![p](https://i.imgur.com/aO9Kj1O.jpg)"
   ]
  },
  {
   "cell_type": "markdown",
   "metadata": {},
   "source": [
    "## Summary \n",
    "\n",
    "1. Arrays are a special type of list that allows us to store values in an organized manner.\n",
    "2. An array can be created by either defining it directly using np.array() or by importing a CSV using np.genfromtxt('file.csv', delimiter=',').\n",
    "\n",
    "3. An operation (such as addition) can be performed on every element in an array by simply performing it on the array itself.\n",
    "\n",
    "4. Elements can be selected from arrays using their index and array locations, both of which start at 0.\n",
    "5. Logical operations can be used to create new, more focused arrays out of larger arrays.\n",
    "\n",
    "![p](https://i.imgur.com/W20H7KV.jpg)\n",
    "\n",
    "![p](https://i.imgur.com/fViUCuS.jpg)\n",
    "\n",
    "![p](https://i.imgur.com/phUZPBd.jpg)\n"
   ]
  },
  {
   "cell_type": "markdown",
   "metadata": {},
   "source": [
    "## Numpy Project: Betty's Bakery\n",
    "\n",
    "Since the questions of the quiz are a bit long and a lot of images would be required, therefore the link of the image has been given directly to refer.\n",
    "\n",
    "https://www.youtube.com/watch?v=bv5x0BrFyMU"
   ]
  }
 ],
 "metadata": {
  "kernelspec": {
   "display_name": "Python 3",
   "language": "python",
   "name": "python3"
  },
  "language_info": {
   "codemirror_mode": {
    "name": "ipython",
    "version": 3
   },
   "file_extension": ".py",
   "mimetype": "text/x-python",
   "name": "python",
   "nbconvert_exporter": "python",
   "pygments_lexer": "ipython3",
   "version": "3.7.4"
  }
 },
 "nbformat": 4,
 "nbformat_minor": 2
}
