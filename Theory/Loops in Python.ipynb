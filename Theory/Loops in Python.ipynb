{
 "cells": [
  {
   "cell_type": "markdown",
   "metadata": {},
   "source": [
    "![p](https://i.imgur.com/gYQ9bWS.jpg)\n",
    "\n",
    "![p](https://i.imgur.com/tI0glr3.jpg)\n",
    "\n",
    "![p](https://i.imgur.com/6SDeCnR.jpg)\n",
    "\n",
    "![p](https://i.imgur.com/6mTkJRC.jpg)\n",
    "\n",
    "![p](https://i.imgur.com/3B2WG2u.jpg)\n",
    "\n",
    "![p](https://i.imgur.com/49whuyF.jpg)\n",
    "\n",
    "![p](https://i.imgur.com/MGH6qFQ.jpg)\n",
    "\n",
    "![p](https://i.imgur.com/j4K8jec.jpg)\n",
    "\n",
    "![p](https://i.imgur.com/gQIewkY.jpg)\n",
    "\n",
    "![p](https://i.imgur.com/0BM6Grl.jpg)\n",
    "\n",
    "![p](https://i.imgur.com/TEaCYXY.jpg)\n",
    "\n",
    "![p](https://i.imgur.com/37qZnQ5.jpg)\n",
    "\n",
    "![p](https://i.imgur.com/LCxjk4l.jpg)\n",
    "\n",
    "## Quiz Questions and Answers\n",
    "\n",
    "![p](https://i.imgur.com/mUMK1JM.jpg)\n",
    "\n",
    "![p](https://i.imgur.com/XYEAPPA.jpg)\n",
    "\n",
    "![p](https://i.imgur.com/dCvrRoT.jpg)\n",
    "\n",
    "![p](https://i.imgur.com/mxhQocH.jpg)\n",
    "\n",
    "![p](https://i.imgur.com/ebXg2XF.jpg)\n",
    "\n",
    "![p](https://i.imgur.com/H5fzbiK.jpg)\n",
    "\n",
    "![p](https://i.imgur.com/1KztbDY.jpg)\n",
    "\n",
    "![p](https://i.imgur.com/0utXz9W.jpg)\n",
    "\n",
    "![p](https://i.imgur.com/zBZ99Sk.jpg)"
   ]
  },
  {
   "cell_type": "code",
   "execution_count": null,
   "metadata": {},
   "outputs": [],
   "source": []
  }
 ],
 "metadata": {
  "kernelspec": {
   "display_name": "Python 3",
   "language": "python",
   "name": "python3"
  },
  "language_info": {
   "codemirror_mode": {
    "name": "ipython",
    "version": 3
   },
   "file_extension": ".py",
   "mimetype": "text/x-python",
   "name": "python",
   "nbconvert_exporter": "python",
   "pygments_lexer": "ipython3",
   "version": "3.7.4"
  }
 },
 "nbformat": 4,
 "nbformat_minor": 2
}
