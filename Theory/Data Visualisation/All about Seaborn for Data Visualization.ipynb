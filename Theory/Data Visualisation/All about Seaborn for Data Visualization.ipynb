{
 "cells": [
  {
   "cell_type": "markdown",
   "metadata": {},
   "source": [
    "# Seaborn\n",
    "\n",
    "Seaborn is a Python data visualization library that provides simple code to create elegant visualizations for statistical exploration and insight. Seaborn is based on Matplotlib, but improves on Matplotlib in several ways:\n",
    "\n",
    "1. Seaborn provides a more visually appealing plotting style and concise syntax.\n",
    "2. Seaborn natively understands Pandas DataFrames, making it easier to plot data directly from CSVs.\n",
    "3. Seaborn can easily summarize Pandas DataFrames with many rows of data into aggregated charts.\n",
    "\n",
    "We will use Seaborn to visualize a Pandas DataFrame. DataFrames contain data structured into rows and columns. DataFrames look similar to other data tables you may be familiar with, but they are designed specifically to be used with Python.\n",
    "\n",
    "We can create a DataFrame from a local CSV file (CSV files store data in a tabular format).\n",
    "\n",
    "To create a DataFrame from a local CSV file you would use the syntax:\n",
    "\n",
    "df = pd.read_csv('file_name.csv')\n",
    "\n",
    "The code above creates a DataFrame saved to a variable named df. The data inside of the df DataFrame comes from the data in the local CSV file named file_name.csv.\n",
    "\n",
    "Once we have prepared and organized a Pandas DataFrame with the chosen dataset, we are ready to plot with Seaborn!"
   ]
  },
  {
   "cell_type": "markdown",
   "metadata": {},
   "source": [
    "## Plotting Bars with Seaborn"
   ]
  },
  {
   "cell_type": "markdown",
   "metadata": {},
   "source": [
    "The Seaborn function sns.barplot(), takes at least three keyword arguments:\n",
    "\n",
    "1. data: a Pandas DataFrame that contains the data (in this example, data=df)\n",
    "2. x: a string that tells Seaborn which column in the DataFrame contains otheur x-labels (in this case, x=\"Gender\")\n",
    "3. y: a string that tells Seaborn which column in the DataFrame contains the heights we want to plot for each bar (in this case y=\"Mean Satisfaction\")\n",
    "\n",
    "By default, Seaborn will aggregate and plot the mean of each category.\n",
    "\n",
    "![p](https://i.imgur.com/YkkIyCo.jpg)"
   ]
  },
  {
   "cell_type": "markdown",
   "metadata": {},
   "source": [
    "## Understanding Aggregates\n",
    "\n",
    "Seaborn can also calculate aggregate statistics for large datasets.\n",
    "\n",
    "An aggregate statistic, or aggregate, is a single number used to describe a set of data. One example of an aggregate is the average, or mean of a data set. There are many other aggregate statistics as well.\n",
    "\n",
    "![p](https://i.imgur.com/EFvbi3C.jpg)\n",
    "\n",
    "![p](https://i.imgur.com/AtPXR4v.jpg)"
   ]
  },
  {
   "cell_type": "markdown",
   "metadata": {},
   "source": [
    "## Plotting Aggregates\n",
    "\n",
    "![i](https://i.imgur.com/D1Hy9rW.jpg)"
   ]
  },
  {
   "cell_type": "markdown",
   "metadata": {},
   "source": [
    "## Modifying Error Bars\n",
    "\n",
    "By default, Seaborn will place error bars on each bar when you use the barplot() function.\n",
    "\n",
    "Error bars are the small lines that extend above and below the top of each bar. Errors bars visually indicate the range of values that might be expected for that bar.\n",
    "\n",
    "There are several different calculations that are commonly used to determine error bars.\n",
    "\n",
    "By default, Seaborn uses something called a bootstrapped confidence interval. Roughly speaking, this interval means that “based on this data, 95% of similar situations would have an outcome within this range”.\n",
    "\n",
    "The confidence interval is a nice error bar measurement because it is defined for different types of aggregate functions, such as medians and mode, in addition to means.\n",
    "\n",
    "If you’re calculating a mean and would prefer to use standard deviation for your error bars, you can pass in the keyword argument ci=\"sd\" to sns.barplot() which will represent one standard deviation. It would look like this:\n",
    "\n",
    "sns.barplot(data=gradebook, x=\"name\", y=\"grade\", ci=\"sd\")\n",
    "\n",
    "![p](https://i.imgur.com/qfdJHCr.jpg)"
   ]
  },
  {
   "cell_type": "markdown",
   "metadata": {},
   "source": [
    "## Calculating Different Aggregates\n",
    "\n",
    "In most cases, we’ll want to plot the mean of our data, but sometimes, we’ll want something different:\n",
    "\n",
    "1. If our data has many outliers, we may want to plot the median.\n",
    "2. If our data is categorical, we might want to count how many times each category appears (such as in the case of survey responses).\n",
    "\n",
    "Seaborn is flexible and can calculate any aggregate you want. To do so, we’ll need to use the keyword argument estimator, which accepts any function that works on a list.\n",
    "\n",
    "For example, to calculate the median, you can pass in np.median to the estimator keyword:\n",
    "\n",
    "sns.barplot(data=df,\n",
    "  x=\"x-values\",\n",
    "  y=\"y-values\",\n",
    "  estimator=np.median)\n",
    "  \n",
    "![p](https://i.imgur.com/BrGAn1w.jpg)"
   ]
  },
  {
   "cell_type": "markdown",
   "metadata": {},
   "source": [
    "## Aggregating by Multiple Columns\n",
    "\n",
    "Sometimes we’ll want to aggregate our data by multiple columns to visualize nested categorical variables.\n",
    "\n",
    "The hue parameter adds a nested categorical variable to the plot.\n",
    "\n",
    "![p](https://i.imgur.com/HbcwVXl.jpg)\n"
   ]
  },
  {
   "cell_type": "markdown",
   "metadata": {},
   "source": [
    "![p](https://i.imgur.com/2d0jxGf.jpg)"
   ]
  },
  {
   "cell_type": "markdown",
   "metadata": {},
   "source": [
    "# Distributions using Seaborn\n",
    "\n",
    "Seaborn is optimized to work with large datasets — from its ability to natively interact with Pandas DataFrames, to automatically calculating and plotting aggregates. One of the most powerful aspects of Seaborn is its ability to visualize and compare distributions. Distributions provide us with more information about our data — how spread out it is, its range, etc.\n",
    "\n",
    "## Bar Charts Hide Information\n",
    "\n",
    "![p](https://i.imgur.com/SmqIPiK.jpg)"
   ]
  },
  {
   "cell_type": "markdown",
   "metadata": {},
   "source": [
    "## KDE Plots\n",
    "\n",
    "Bar plots can tell us what the mean of our dataset is, but they don’t give us any hints as to the distribution of the dataset values. For all we know, the data could be clustered around the mean or spread out evenly across the entire range.\n",
    "\n",
    "To find out more about each of these datasets, we’ll need to examine their distributions. A common way of doing so is by plotting the data as a histogram, but histograms have their drawback as well.\n",
    "\n",
    "Seaborn offers another option for graphing distributions: KDE Plots.\n",
    "\n",
    "KDE stands for Kernel Density Estimator. A KDE plot gives us the sense of a univariate as a curve. A univariate dataset only has one variable and is also referred to as being one-dimensional, as opposed to bivariate or two-dimensional datasets which have two variables.\n",
    "\n",
    "KDE plots are preferable to histograms because depending on how you group the data into bins and the width of the bins, you can draw wildly different conclusions about the shape of the data. Using a KDE plot can mitigate these issues, because they smooth the datasets, allow us to generalize over the shape of our data, and aren’t beholden to specific data points.\n",
    "\n",
    "To plot a KDE in Seaborn, we use the method sns.kdeplot().\n",
    "\n",
    "A KDE plot takes the following arguments:\n",
    "\n",
    "1. data - the univariate dataset being visualized, like a Pandas DataFrame, Python list, or NumPy array\n",
    "2. shade - a boolean that determines whether or not the space underneath the curve is shaded\n",
    "\n",
    "Notice that when using a KDE we need to plot each of the original datasets separately, rather than using a combined dataframe like we did with the bar plot.\n",
    "\n",
    "![p](https://i.imgur.com/NS74c1n.jpg)"
   ]
  },
  {
   "cell_type": "markdown",
   "metadata": {},
   "source": [
    "## Box Plots\n",
    "\n",
    "While a KDE plot can tell us about the shape of the data, it’s cumbersome to compare multiple KDE plots at once. They also can’t tell us other statistical information, like the values of outliers.\n",
    "\n",
    "The box plot (also known as a box-and-whisker plot) can’t tell us about how our dataset is distributed, like a KDE plot. But it shows us the range of our dataset, gives us an idea about where a significant portion of our data lies, and whether or not any outliers are present.\n",
    "\n",
    "Let’s examine how we interpret a box plot:\n",
    "\n",
    "1. The box represents the interquartile range\n",
    "2. The line in the middle of the box is the median\n",
    "3. The end lines are the first and third quartiles\n",
    "4. The diamonds show outliers\n",
    "\n",
    "One advantage of the box plot over the KDE plot is that in Seaborn, it is easy to plot multiples and compare distributions.\n",
    "\n",
    "A box plot takes the following arguments:\n",
    "\n",
    "1. data - the dataset we’re plotting, like a DataFrame, list, or an array\n",
    "2. x - a one-dimensional set of values, like a Series, list, or array\n",
    "3. y - a second set of one-dimensional data\n",
    "\n",
    "If you use a Pandas Series for the x and y values, the Series will also generate the axis labels.\n",
    "\n",
    "![p](https://i.imgur.com/WDtLSDq.jpg)"
   ]
  },
  {
   "cell_type": "markdown",
   "metadata": {},
   "source": [
    "## Violin Plots\n",
    "\n",
    "While it’s possible to plot multiple histograms, it is not a great option for comparing distributions. Seaborn gives us another option for comparing distributions - a violin plot. Violin plots provide more information than box plots because instead of mapping each individual data point, we get an estimation of the dataset thanks to the KDE.\n",
    "\n",
    "Violin plots are less familiar and trickier to read, so let’s break down the different parts:\n",
    "\n",
    "1. There are two KDE plots that are symmetrical along the center line.\n",
    "2. A white dot represents the median.\n",
    "3. The thick black line in the center of each violin represents the interquartile range.\n",
    "4. The lines that extend from the center are the confidence intervals - just as we saw on the bar plots, a violin plot also displays the 95% confidence interval.\n",
    "\n",
    "![p](https://i.imgur.com/cNSAQsG.jpg)\n",
    "\n",
    "Violin Plots are a powerful graphing tool that allows you to compare multiple distributions at once.\n",
    "\n",
    "To plot a violin plot in Seaborn, use the method sns.violinplot().\n",
    "\n",
    "There are several options for passing in relevant data to the x and y parameters:\n",
    "\n",
    "1. data - the dataset that we’re plotting, such as a list, DataFrame, or array\n",
    "2. x, y, and hue - a one-dimensional set of data, such as a Series, list, or array\n",
    "3. any of the parameters to the function sns.boxplot()\n",
    "\n",
    "![i](https://i.imgur.com/n5iUxUT.jpg)"
   ]
  },
  {
   "cell_type": "markdown",
   "metadata": {},
   "source": [
    "## Quiz of the same\n",
    "\n",
    "![p](https://i.imgur.com/2gwxZNw.jpg)\n",
    "\n",
    "![p](https://i.imgur.com/v3ERCOM.jpg)\n",
    "\n",
    "![p](https://i.imgur.com/McoR6Da.jpg)\n",
    "\n",
    "![p](https://i.imgur.com/JREIcvh.jpg)\n",
    "\n",
    "![p](https://i.imgur.com/jgSF5Mq.jpg)\n",
    "\n",
    "![p](https://i.imgur.com/tWCzoBI.jpg)\n",
    "\n",
    "![p](https://i.imgur.com/rqLUt1Q.jpg)\n",
    "\n",
    "![p](https://i.imgur.com/PLIlrWc.jpg)\n",
    "\n",
    "![p](https://i.imgur.com/iMENyVn.jpg)\n",
    "\n",
    "![p](https://i.imgur.com/pnis9Cj.jpg)"
   ]
  }
 ],
 "metadata": {
  "kernelspec": {
   "display_name": "Python 3",
   "language": "python",
   "name": "python3"
  },
  "language_info": {
   "codemirror_mode": {
    "name": "ipython",
    "version": 3
   },
   "file_extension": ".py",
   "mimetype": "text/x-python",
   "name": "python",
   "nbconvert_exporter": "python",
   "pygments_lexer": "ipython3",
   "version": "3.7.4"
  }
 },
 "nbformat": 4,
 "nbformat_minor": 2
}
