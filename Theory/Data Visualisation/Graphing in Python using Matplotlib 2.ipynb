{
 "cells": [
  {
   "cell_type": "markdown",
   "metadata": {},
   "source": [
    "## Simple Bar Chart\n",
    "\n",
    "The plt.bar function allows you to create simple bar charts to compare multiple categories of data.\n",
    "\n",
    "Some possible data that would be displayed with a bar chart:\n",
    "\n",
    "1. x-axis — famous buildings, y-axis — heights\n",
    "2. x-axis — different planets, y-axis — number of days in the year\n",
    "3. x-axis — programming languages, y-axis — lines of code written by you\n",
    "\n",
    "You call plt.bar with two arguments:\n",
    "\n",
    "1. the x-values — a list of x-positions for each bar\n",
    "2. the y-values — a list of heights for each bar\n",
    "\n",
    "In most cases, we will want our x-values to be a list that looks like [0, 1, 2, 3 ...] and has the same number of elements as our y-values list. We can create that list manually, but we can also use the following code:"
   ]
  },
  {
   "cell_type": "code",
   "execution_count": 3,
   "metadata": {},
   "outputs": [],
   "source": [
    "import matplotlib.pyplot as plt\n",
    "heights = [88, 225, 365, 687, 4333, 10756, 30687, 60190, 90553]\n",
    "x_values = range(len(heights))"
   ]
  },
  {
   "cell_type": "markdown",
   "metadata": {},
   "source": [
    "The range function creates a list of consecutive integers (i.e., [0, 1, 2, 3, ...]). It needs an argument to tell it how many numbers should be in the list. For instance, range(5) would make a list with 5 numbers. We want our list to be as long as our bar heights (heights in this example). len(heights) tell us how many elements are in the list heights.\n",
    "\n",
    "Here is an example of how to make a bar chart using plt.bar to compare the number of days in a year on the different planets:"
   ]
  },
  {
   "cell_type": "code",
   "execution_count": 4,
   "metadata": {},
   "outputs": [
    {
     "data": {
      "image/png": "[encoded data removed]",
      "text/plain": [
       "<Figure size 432x288 with 1 Axes>"
      ]
     },
     "metadata": {
      "needs_background": "light"
     },
     "output_type": "display_data"
    }
   ],
   "source": [
    "days_in_year = [88, 225, 365, 687, 4333, 10756, 30687, 60190, 90553]\n",
    "plt.bar(range(len(days_in_year)),\n",
    "        days_in_year)\n",
    "plt.show()"
   ]
  },
  {
   "cell_type": "markdown",
   "metadata": {},
   "source": [
    "## Simple Bar Chart II\n",
    "\n",
    "When we create a bar chart, we want each bar to be meaningful and correspond to a category of data. \n",
    "\n",
    "We learned how to customize the tick marks on the x-axis in three steps:\n",
    "\n",
    "1. Create an axes object\n",
    "\n",
    "ax = plt.subplot()\n",
    "\n",
    "2. Set the x-tick positions using a list of numbers\n",
    "\n",
    "ax.set_xticks([0, 1, 2, 3, 4, 5, 6, 7, 8])\n",
    "\n",
    "3. Set the x-tick labels using a list of strings\n",
    "\n",
    "ax.set_xticklabels(['Mercury', 'Venus', 'Earth', 'Mars', 'Jupiter', 'Saturn', 'Uranus', 'Neptune', 'Pluto'])\n",
    "\n",
    "4. If your labels are particularly long, you can use the rotation keyword to rotate your labels by a specified number of degrees:\n",
    "\n",
    "ax.set_xticklabels(['Mercury', 'Venus', 'Earth', 'Mars', 'Jupiter', 'Saturn', 'Uranus', 'Neptune', 'Pluto'],\n",
    "rotation=30)\n",
    "\n",
    "Note: We have to set the x-ticks before we set the x-labels because the default ticks won’t necessarily be one tick per bar, especially if we’re plotting a lot of bars. If we skip setting the x-ticks before the x-labels, we might end up with labels in the wrong place.\n",
    "\n",
    "\n",
    "![i](https://i.imgur.com/PbbTBAb.jpg)"
   ]
  },
  {
   "cell_type": "markdown",
   "metadata": {},
   "source": [
    "## Side-By-Side Bars\n",
    "\n",
    "We can use a bar chart to compare two sets of data with the same types of axis values. To do this, we plot two sets of bars next to each other, so that the values of each category can be compared. \n",
    "\n",
    "Some examples of data that side-by-side bars could be useful for include:\n",
    "\n",
    "1. the populations of two countries over time\n",
    "2. prices for different foods at two different restaurants\n",
    "3. enrollments in different classes for males and females\n",
    "\n",
    "### Example :\n",
    "\n",
    "The screenshot of the instructions are attached below and the solution is the executable code written in the next cell.\n",
    "\n",
    "![i](https://i.imgur.com/MQROz2Q.jpg)\n",
    "\n",
    "![i](https://i.imgur.com/vQObd7Q.jpg)\n",
    "\n",
    "![i](https://i.imgur.com/ZfXPQDa.jpg)"
   ]
  },
  {
   "cell_type": "code",
   "execution_count": 8,
   "metadata": {},
   "outputs": [
    {
     "data": {
      "image/png": "[encoded data removed]",
      "text/plain": [
       "<Figure size 432x288 with 1 Axes>"
      ]
     },
     "metadata": {
      "needs_background": "light"
     },
     "output_type": "display_data"
    }
   ],
   "source": [
    "from matplotlib import pyplot as plt\n",
    "\n",
    "drinks = [\"cappuccino\", \"latte\", \"chai\", \"americano\", \"mocha\", \"espresso\"]\n",
    "sales1 =  [91, 76, 56, 66, 52, 27]\n",
    "sales2 = [65, 82, 36, 68, 38, 40]\n",
    "\n",
    "#Paste the x_values code here\n",
    "n = 1  # This is our first dataset (out of 2)\n",
    "t = 2 # Number of datasets\n",
    "d = 6 # Number of sets of bars\n",
    "w = 0.8 # Width of each bar\n",
    "store1_x = [t*element + w*n for element\n",
    "             in range(d)]\n",
    "plt.bar(store1_x,sales1)\n",
    "n = 2  # This is our second dataset (out of 2)\n",
    "t = 2 # Number of datasets\n",
    "d = 6 # Number of sets of bars\n",
    "w = 0.8 # Width of each bar\n",
    "store2_x = [t*element + w*n for element\n",
    "             in range(d)]\n",
    "plt.bar(store2_x,sales2)\n",
    "plt.show()"
   ]
  },
  {
   "cell_type": "markdown",
   "metadata": {},
   "source": [
    "## Stacked Bars\n",
    "\n",
    "If we want to compare two sets of data while preserving knowledge of the total between them, we can also stack the bars instead of putting them side by side. We do this by using the keyword bottom. The top set of bars will have bottom set to the heights of the other set of bars. The first bar graph is plotted normally whereas the second bar graph the one which should be below the first graph has bottom keyword written in it.\n",
    "\n",
    "![i](https://i.imgur.com/sBW2LO2.jpg)"
   ]
  },
  {
   "cell_type": "markdown",
   "metadata": {},
   "source": [
    "## Error Bars\n",
    "\n",
    "As seen above we learned to represent data as bars of different heights. Sometimes, we need to visually communicate some sort of uncertainty in the heights of those bars. Here are some examples:\n",
    "\n",
    "1. The average number of students in a 3rd grade classroom is 30, but some classes have as few as 18 and others have as many as 35 students.\n",
    "2. We measured that the weight of a certain fruit was 35g, but we know that our scale isn’t very precise, so the true weight of the fruit might be as much as 40g or as little as 30g.\n",
    "3. The average price of a soda is USD 1.00, but we also want to communicate that the standard deviation is USD 0.20.\n",
    "\n",
    "To display error visually in a bar chart, we often use error bars to show where each bar could be, taking errors into account.\n",
    "\n",
    "![i](https://i.imgur.com/IIqYs75.png)\n",
    "\n",
    "Each of the black lines is called an error bar. The taller the bar is, the more uncertain we are about the height of the blue bar. The horizontal lines at the top and bottom are called caps. They make it easier to read the error bars.\n",
    "\n",
    "If we wanted to show an error of +/- 2, we would add the keyword yerr=2 to our plt.bar command. To make the caps wide and easy to read, we would add the keyword capsize=10:"
   ]
  },
  {
   "cell_type": "code",
   "execution_count": 9,
   "metadata": {},
   "outputs": [
    {
     "data": {
      "image/png": "[encoded data removed]",
      "text/plain": [
       "<Figure size 432x288 with 1 Axes>"
      ]
     },
     "metadata": {
      "needs_background": "light"
     },
     "output_type": "display_data"
    }
   ],
   "source": [
    "values = [10, 13, 11, 15, 20]\n",
    "yerr = 2\n",
    "plt.bar(range(len(values)), values, yerr=yerr, capsize=10)\n",
    "plt.show()"
   ]
  },
  {
   "cell_type": "markdown",
   "metadata": {},
   "source": [
    "If we want a different amount of error for each bar, we can make yerr equal to a list rather than a single number:"
   ]
  },
  {
   "cell_type": "code",
   "execution_count": 10,
   "metadata": {},
   "outputs": [
    {
     "data": {
      "image/png": "[encoded data removed]",
      "text/plain": [
       "<Figure size 432x288 with 1 Axes>"
      ]
     },
     "metadata": {
      "needs_background": "light"
     },
     "output_type": "display_data"
    }
   ],
   "source": [
    "values = [10, 13, 11, 15, 20]\n",
    "yerr = [1, 3, 0.5, 2, 4]\n",
    "plt.bar(range(len(values)), values, yerr=yerr, capsize=10)\n",
    "plt.show()"
   ]
  },
  {
   "cell_type": "markdown",
   "metadata": {},
   "source": [
    "Like the list of x-axis labels, Matplotlib reads this in the same order as the list of y-values. So, the first index of your error list should correspond to the first index of your y-values list, the second index of your error list should correspond to the second index of your y-values list, and so on.\n",
    "\n",
    "![i](https://i.imgur.com/LVc55fF.jpg)"
   ]
  },
  {
   "cell_type": "markdown",
   "metadata": {},
   "source": [
    "## Fill Between\n",
    "\n",
    "We’ve learned how to display errors on bar charts using error bars. Let’s take a look at how we might do this in an aesthetically pleasing way on line graphs. In Matplotlib, we can use plt.fill_between to shade error. This function takes three arguments:\n",
    "\n",
    "1. x-values — this works just like the x-values of plt.plot\n",
    "2. lower-bound for y-values — sets the bottom of the shared area\n",
    "3. upper-bound for y-values — sets the top of the shared area\n",
    "\n",
    "Generally, we use fill_between to create a shaded error region, and then plot the actual line over it. We can set the alpha keyword to a value between 0 and 1 in the fill_between call for transparency so that we can see the line underneath. Here is an example of how we would display data with an error of 2:"
   ]
  },
  {
   "cell_type": "code",
   "execution_count": 11,
   "metadata": {},
   "outputs": [
    {
     "data": {
      "image/png": "[encoded data removed]",
      "text/plain": [
       "<Figure size 432x288 with 1 Axes>"
      ]
     },
     "metadata": {
      "needs_background": "light"
     },
     "output_type": "display_data"
    }
   ],
   "source": [
    "x_values = range(10)\n",
    "y_values = [10, 12, 13, 13, 15, 19, 20, 22, 23, 29]\n",
    "y_lower = [8, 10, 11, 11, 13, 17, 18, 20, 21, 27]\n",
    "y_upper = [12, 14, 15, 15, 17, 21, 22, 24, 25, 31]\n",
    "\n",
    "plt.fill_between(x_values, y_lower, y_upper, alpha=0.2) #this is the shaded error\n",
    "plt.plot(x_values, y_values) #this is the line itself\n",
    "plt.show()"
   ]
  },
  {
   "cell_type": "markdown",
   "metadata": {},
   "source": [
    "Having to calculate y_lower and y_upper by hand is time-consuming. If we try to just subtract 2 from y_values, we will get an error.\n",
    "\n",
    "In order to correctly add or subtract from a list, we need to use list comprehension:\n",
    "\n",
    "y_lower = [i - 2 for i in y_values]\n",
    "\n",
    "This command looks at each element in y_values and calls the element its currently looking at i. For each new i, it subtracts 2. These opperations create a new list called y_lower.\n",
    "\n",
    "If we wanted to add 2 to each element in y_values, we use this code:\n",
    "\n",
    "y_upper = [i + 2 for i in y_values]\n",
    "\n",
    "### Exercise for fill between and it's solution :\n",
    "\n",
    "![i](https://i.imgur.com/bpKJN1n.jpg)\n",
    "\n",
    "![i](https://i.imgur.com/5h74xMe.jpg)"
   ]
  },
  {
   "cell_type": "markdown",
   "metadata": {},
   "source": [
    "## Pie Chart\n",
    "\n",
    "If we want to display elements of a data set as proportions of a whole, we can use a pie chart.\n",
    "\n",
    "Pie charts are helpful for displaying data like:\n",
    "\n",
    "1. Different ethnicities that make up a school district\n",
    "2. Different macronutrients (carbohydrates, fat, protein) that make up a meal\n",
    "3. Different responses to an online poll\n",
    "\n",
    "In Matplotlib, we can make a pie chart with the command plt.pie, passing in the values we want to chart. Example:"
   ]
  },
  {
   "cell_type": "code",
   "execution_count": 12,
   "metadata": {},
   "outputs": [
    {
     "data": {
      "image/png": "[encoded data removed]",
      "text/plain": [
       "<Figure size 432x288 with 1 Axes>"
      ]
     },
     "metadata": {},
     "output_type": "display_data"
    }
   ],
   "source": [
    "budget_data = [5000, 2000, 7500, 3000, 900]\n",
    "\n",
    "plt.pie(budget_data)\n",
    "plt.show()"
   ]
  },
  {
   "cell_type": "markdown",
   "metadata": {},
   "source": [
    " When we make pie charts in Matplotlib, we almost always want to set the axes to be equal to fix this issue. To do this, we use plt.axis('equal'). \n",
    " \n",
    " ### Another Example :\n",
    "\n",
    "![i](https://i.imgur.com/xCkbLb5.jpg)"
   ]
  },
  {
   "cell_type": "markdown",
   "metadata": {},
   "source": [
    "## Pie Chart Labeling\n",
    "\n",
    "We also want to be able to understand what each slice of the pie represents. To do this, we can either:\n",
    "\n",
    "1. use a legend to label each color, or\n",
    "2. put labels on the chart itself.\n",
    "\n",
    "### Method 1"
   ]
  },
  {
   "cell_type": "code",
   "execution_count": 13,
   "metadata": {},
   "outputs": [
    {
     "data": {
      "text/plain": [
       "<matplotlib.legend.Legend at 0x2002134eb88>"
      ]
     },
     "execution_count": 13,
     "metadata": {},
     "output_type": "execute_result"
    },
    {
     "data": {
      "image/png": "[encoded data removed]",
      "text/plain": [
       "<Figure size 432x288 with 1 Axes>"
      ]
     },
     "metadata": {},
     "output_type": "display_data"
    }
   ],
   "source": [
    "budget_data = [500, 1000, 750, 300, 100]\n",
    "budget_categories = ['marketing', 'payroll', 'engineering', 'design', 'misc']\n",
    "\n",
    "plt.pie(budget_data)\n",
    "plt.legend(budget_categories)"
   ]
  },
  {
   "cell_type": "markdown",
   "metadata": {},
   "source": [
    "### Method 2"
   ]
  },
  {
   "cell_type": "code",
   "execution_count": 15,
   "metadata": {},
   "outputs": [
    {
     "data": {
      "image/png": "[encoded data removed]",
      "text/plain": [
       "<Figure size 432x288 with 1 Axes>"
      ]
     },
     "metadata": {},
     "output_type": "display_data"
    }
   ],
   "source": [
    "plt.pie(budget_data, labels=budget_categories)\n",
    "plt.show()"
   ]
  },
  {
   "cell_type": "markdown",
   "metadata": {},
   "source": [
    "One other useful labeling tool for pie charts is adding the percentage of the total that each slice occupies. Matplotlib can add this automatically with the keyword autopct. We pass in string formatting instructions to format the labels how we want. Some common formats are:\n",
    "\n",
    "1. '%0.2f' — 2 decimal places, like 4.08\n",
    "2. '%0.2f%%' — 2 decimal places, but with a percent sign at the end, like 4.08%. You need two consecutive percent signs because the first one acts as an escape character, so that the second one gets displayed on the chart.\n",
    "3. '%d%%' — rounded to the nearest int and with a percent sign at the end, like 4%.\n",
    "\n",
    "### An example of a full call"
   ]
  },
  {
   "cell_type": "code",
   "execution_count": 17,
   "metadata": {},
   "outputs": [
    {
     "data": {
      "image/png": "[encoded data removed]",
      "text/plain": [
       "<Figure size 432x288 with 1 Axes>"
      ]
     },
     "metadata": {},
     "output_type": "display_data"
    }
   ],
   "source": [
    "plt.pie(budget_data,\n",
    "        labels=budget_categories,\n",
    "        autopct='%0.1f%%')\n",
    "plt.show()"
   ]
  },
  {
   "cell_type": "markdown",
   "metadata": {},
   "source": [
    "### Exercise and it's solution:\n",
    "\n",
    "![i](https://i.imgur.com/Cpbyqfk.jpg)"
   ]
  },
  {
   "cell_type": "markdown",
   "metadata": {},
   "source": [
    "## Histogram\n",
    "\n",
    "Sometimes we want to get a feel for a large dataset with many samples beyond knowing just the basic metrics of mean, median, or standard deviation. To get more of an intuitive sense for a dataset, we can use a histogram to display all the values.\n",
    "\n",
    "A histogram tells us how many values in a dataset fall between different sets of numbers. Each of these questions represents a bin. All bins in a histogram are always the same size. The width of each bin is the distance between the minimum and maximum values of each bin. Each bin is represented by a different rectangle whose height is the number of elements from the dataset that fall within that bin.\n",
    "\n",
    "To make a histogram in Matplotlib, we use the command plt.hist. plt.hist finds the minimum and the maximum values in your dataset and creates 10 equally-spaced bins between those values.\n",
    "\n",
    "If we want more than 10 bins, we can use the keyword bins to set how many bins we want to divide the data into. The keyword range selects the minimum and maximum values to plot. For example, if we wanted to take our data from the last example and make a new histogram that just displayed the values from 66 to 69, divided into 40 bins (instead of 10), we could use this function call:\n",
    "\n",
    "plt.hist(dataset, range=(66,69), bins=40)\n",
    "\n",
    "### Example of hist and solution to the exercise: \n",
    "\n",
    "![i](https://i.imgur.com/abiz8MV.jpg)"
   ]
  },
  {
   "cell_type": "markdown",
   "metadata": {},
   "source": [
    "## Multiple Histograms\n",
    "\n",
    "If we want to compare two different distributions, we can put multiple histograms on the same plot. This could be useful, for example, in comparing the heights of a bunch of men and the heights of a bunch of women. However, it can be hard to read two histograms on top of each other.  For example, in this histogram, we can’t see all of the blue plot, because it’s covered by the orange one:\n",
    "\n",
    "![i](https://i.imgur.com/oREOPBN.png)\n",
    "\n",
    "We have two ways we can solve a problem like this:\n",
    "\n",
    "1. Use the keyword alpha, which can be a value between 0 and 1. This sets the transparency of the histogram. A value of 0 would make the bars entirely transparent. A value of 1 would make the bars completely opaque.\n",
    "\n",
    "plt.hist(a, range=(55, 75), bins=20, alpha=0.5)\n",
    "\n",
    "plt.hist(b, range=(55, 75), bins=20, alpha=0.5)\n",
    "\n",
    "![i](https://i.imgur.com/wrbMcyo.png)\n",
    "\n",
    "2. use the keyword histtype with the argument 'step' to draw just the outline of a histogram:\n",
    "\n",
    "plt.hist(a, range=(55, 75), bins=20, histtype='step')\n",
    "\n",
    "plt.hist(b, range=(55, 75), bins=20, histtype='step')\n",
    "\n",
    "which results in a chart like:\n",
    "\n",
    "![i](https://i.imgur.com/cF5rJPb.png)"
   ]
  },
  {
   "cell_type": "markdown",
   "metadata": {},
   "source": [
    "Another problem we face is that our histograms might have different numbers of samples, making one much bigger than the other. We can see how this makes it difficult to compare qualitatively, by adding a dataset b with a much bigger size value:\n",
    "\n",
    "a = normal(loc=64, scale=2, size=10000)\n",
    "\n",
    "b = normal(loc=70, scale=2, size=100000)\n",
    "\n",
    "plt.hist(a, range=(55, 75), bins=20)\n",
    "\n",
    "plt.hist(b, range=(55, 75), bins=20)\n",
    "\n",
    "plt.show()\n",
    "\n",
    "The result is two histograms that are very difficult to compare:\n",
    "\n",
    "![i](https://i.imgur.com/dQwJPNK.png)\n",
    "\n",
    "To solve this, we can normalize our histograms using normed=True. This command divides the height of each column by a constant such that the total shaded area of the histogram sums to 1.\n",
    "\n",
    "a = normal(loc=64, scale=2, size=10000)\n",
    "\n",
    "b = normal(loc=70, scale=2, size=100000)\n",
    "\n",
    "plt.hist(a, range=(55, 75), bins=20, alpha=0.5, normed=True)\n",
    "\n",
    "plt.hist(b, range=(55, 75), bins=20, alpha=0.5, normed=True)\n",
    "\n",
    "plt.show()\n",
    "\n",
    "Now, we can more easily see the differences between the blue set and the orange set:\n",
    "\n",
    "![i](https://i.imgur.com/7TYtro9.png)"
   ]
  },
  {
   "cell_type": "markdown",
   "metadata": {},
   "source": [
    "### Exercise Solution : \n",
    "\n",
    "![i](https://i.imgur.com/Q5939to.jpg)\n",
    "\n",
    "![i](https://i.imgur.com/hTfwhB9.jpg)"
   ]
  },
  {
   "cell_type": "code",
   "execution_count": null,
   "metadata": {},
   "outputs": [],
   "source": []
  }
 ],
 "metadata": {
  "kernelspec": {
   "display_name": "Python 3",
   "language": "python",
   "name": "python3"
  },
  "language_info": {
   "codemirror_mode": {
    "name": "ipython",
    "version": 3
   },
   "file_extension": ".py",
   "mimetype": "text/x-python",
   "name": "python",
   "nbconvert_exporter": "python",
   "pygments_lexer": "ipython3",
   "version": "3.7.4"
  }
 },
 "nbformat": 4,
 "nbformat_minor": 2
}
