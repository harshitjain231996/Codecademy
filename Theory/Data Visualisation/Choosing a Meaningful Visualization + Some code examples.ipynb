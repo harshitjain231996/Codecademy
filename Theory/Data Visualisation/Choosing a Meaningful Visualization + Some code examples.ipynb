{
 "cells": [
  {
   "cell_type": "markdown",
   "metadata": {},
   "source": [
    "# How to Select a Meaningful Visualization\n",
    "\n",
    "## Brainstorming your visualization\n",
    "\n",
    "The three steps in the data visualization process are preparing, visualizing, and styling data. When faced with a blank canvas, the second step of the process, visualizing the data, can be overwhelming. To help, we’ve created a diagram to guide the selection of a chart based on what you want to explore in your data.\n",
    "\n",
    "When planning out a visualization, we will usually have an idea of what questions you’ll want to explore. However, you may initially wonder exactly which chart to use. This moment is one of the most exciting parts of the process!\n",
    "\n",
    "During your brainstorming phase, one should consider two things:\n",
    "\n",
    "1. The focusing question you want to answer with your chart\n",
    "2. The type of data that you want to visualize\n",
    "\n",
    "Depending on the focusing questions we’re trying to answer, the type of chart you select should be different and intentional in its difference. In the diagram below, we have assigned Matplotlib visualizations to different categories. These categories explore common focusing questions and types of data you may want to display in a visualization.\n",
    "\n",
    "![i](https://i.imgur.com/h3FdTY0.jpg)\n",
    "\n",
    "## Chart categories\n",
    "\n",
    "### Composition charts\n",
    "\n",
    "Focusing Question: What are the parts of some whole? What is the data made of?\n",
    "\n",
    "Datasets that work well: Data pertaining to probabilities, proportions, and percentages can be visualized as with the graphs in this composition category. Charts in this category illustrate the different data components and their percentages as part of a whole.\n",
    "\n",
    "### Distribution Charts\n",
    "\n",
    "Datasets that work well: Data in large quantities and/or with an array of attributes works well for these types of charts. Visualizations in this category will allow you to see patterns, re-occurrences, and a clustering of data points.\n",
    "\n",
    "Note: In statistics, a commonly seen distribution is a bell curve, also known as a normal distribution. A bell curve is a bell-shaped distribution where most of the values in the dataset crowd around the average (also known as the mean), therefore causing the curve to form. If you want to see how values in the data are “distributed” across variables, the best way to do that would be with the visualizations in this category.\n",
    "\n",
    "### Relationship Charts\n",
    "\n",
    "Focusing Question: How do variables relate to each other?\n",
    "\n",
    "Datasets that work well: Data with two or more variables can be displayed in these charts. These charts typically illustrate a correlation between two or more variables. You can communicate this relationship by mapping multiple variables in the same chart. Correlation measures the strength of a relationship between variables.\n",
    "\n",
    "### Comparison Charts\n",
    "\n",
    "Focusing Question: How do variables compare to each other?\n",
    "\n",
    "Datasets that work well: Data must have multiple variables, and the visualizations in this category allow readers to compare those items against the others. For example, a line graph that has multiple lines, each belonging to a different variable. Multi-colored bar charts are also a great way to compare items in data."
   ]
  },
  {
   "attachments": {},
   "cell_type": "markdown",
   "metadata": {},
   "source": [
    "## Exercises and their Solutions:\n",
    "\n",
    "### Bar chart with error:\n",
    "\n",
    "![i](https://i.imgur.com/XKS5DUF.jpg)\n",
    "\n",
    "\n",
    "![i](https://i.imgur.com/nbvLDEL.jpg)"
   ]
  },
  {
   "cell_type": "markdown",
   "metadata": {},
   "source": [
    "### Side By Side Bars\n",
    "\n",
    "![o](https://i.imgur.com/3PKmhXP.jpg)\n",
    "\n",
    "![0](https://i.imgur.com/iPkedkv.jpg)\n",
    "\n",
    "![p](https://i.imgur.com/soz8WDK.jpg)"
   ]
  },
  {
   "cell_type": "markdown",
   "metadata": {},
   "source": [
    "## Stacked Bars\n",
    "\n",
    "![p](https://i.imgur.com/fKHynQ9.jpg)\n",
    "\n",
    "![p](https://i.imgur.com/GQJhfZV.jpg)\n",
    "\n",
    "![o](https://i.imgur.com/owDEHpD.jpg)"
   ]
  },
  {
   "cell_type": "markdown",
   "metadata": {},
   "source": [
    "## Two Histograms on a Plot\n"
   ]
  },
  {
   "cell_type": "markdown",
   "metadata": {},
   "source": [
    "\n",
    "![e](https://i.imgur.com/21y5lCq.jpg)\n",
    "\n",
    "![e](https://i.imgur.com/QJ41GRM.jpg)"
   ]
  },
  {
   "cell_type": "markdown",
   "metadata": {},
   "source": [
    "## Labeled Pie Chart"
   ]
  },
  {
   "cell_type": "markdown",
   "metadata": {},
   "source": [
    "![i](https://i.imgur.com/oe3NFqP.jpg)"
   ]
  },
  {
   "cell_type": "markdown",
   "metadata": {},
   "source": [
    "## Line with Shaded Error"
   ]
  },
  {
   "cell_type": "markdown",
   "metadata": {},
   "source": [
    "![p](https://i.imgur.com/U2fPVO5.jpg)\n",
    "\n",
    "![o](https://i.imgur.com/tcHYHvI.jpg)"
   ]
  }
 ],
 "metadata": {
  "kernelspec": {
   "display_name": "Python 3",
   "language": "python",
   "name": "python3"
  },
  "language_info": {
   "codemirror_mode": {
    "name": "ipython",
    "version": 3
   },
   "file_extension": ".py",
   "mimetype": "text/x-python",
   "name": "python",
   "nbconvert_exporter": "python",
   "pygments_lexer": "ipython3",
   "version": "3.7.4"
  }
 },
 "nbformat": 4,
 "nbformat_minor": 2
}
