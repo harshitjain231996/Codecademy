{
 "cells": [
  {
   "cell_type": "markdown",
   "metadata": {},
   "source": [
    "# Pandas\n",
    "\n",
    "Pandas is a Python module for working with tabular data (i.e., data in a table with rows and columns). Tabular data has a lot of the same functionality as SQL or Excel, but Pandas adds the power of Python."
   ]
  },
  {
   "cell_type": "markdown",
   "metadata": {},
   "source": [
    "A DataFrame is an object that stores data as rows and columns. You can think of a DataFrame as a spreadsheet or as a SQL table. You can manually create a DataFrame or fill it with data from a CSV, an Excel spreadsheet, or a SQL query.\n",
    "\n",
    "DataFrames have rows and columns. Each column has a name, which is a string. Each row has an index, which is an integer. DataFrames can contain many different data types: strings, ints, floats, tuples, etc.\n",
    "\n",
    "## Creating a DataFrame\n",
    "\n",
    "We can pass in a dictionary to pd.DataFrame(). Each key is a column name and each value is a list of column values. The columns must all be the same length or you will get an error. Here’s an example:"
   ]
  },
  {
   "cell_type": "code",
   "execution_count": 2,
   "metadata": {},
   "outputs": [],
   "source": [
    "import pandas as pd\n",
    "df1 = pd.DataFrame({\n",
    "    'name': ['John Smith', 'Jane Doe', 'Joe Schmo'],\n",
    "    'address': ['123 Main St.', '456 Maple Ave.', '789 Broadway'],\n",
    "    'age': [34, 28, 51]\n",
    "})"
   ]
  },
  {
   "cell_type": "markdown",
   "metadata": {},
   "source": [
    "![f](https://i.imgur.com/4hayqxo.jpg)"
   ]
  },
  {
   "cell_type": "markdown",
   "metadata": {},
   "source": [
    "We can also add data using lists.\n",
    "\n",
    "For example, we can pass in a list of lists, where each one represents a row of data. Use the keyword argument columns to pass a list of column names."
   ]
  },
  {
   "cell_type": "code",
   "execution_count": 3,
   "metadata": {},
   "outputs": [],
   "source": [
    "df2 = pd.DataFrame([\n",
    "    ['John Smith', '123 Main St.', 34],\n",
    "    ['Jane Doe', '456 Maple Ave.', 28],\n",
    "    ['Joe Schmo', '789 Broadway', 51]\n",
    "    ],\n",
    "    columns=['name', 'address', 'age'])"
   ]
  },
  {
   "cell_type": "markdown",
   "metadata": {},
   "source": [
    "![p](https://i.imgur.com/zzIr5sh.jpg)"
   ]
  },
  {
   "cell_type": "markdown",
   "metadata": {},
   "source": [
    "## CSV Files\n",
    "\n",
    "CSV (comma separated values) is a text-only spreadsheet format. We can find CSVs in lots of places:\n",
    "\n",
    "1. Online datasets \n",
    "2. Export from Excel or Google Sheets\n",
    "3. Export from SQL\n",
    "\n",
    "The first row of a CSV contains column headings. All subsequent rows contain values. Each column heading and each variable is separated by a comma:\n",
    "\n",
    "![o](https://i.imgur.com/oYYYl34.jpg)"
   ]
  },
  {
   "cell_type": "markdown",
   "metadata": {},
   "source": [
    "### Loading and Saving CSVs\n",
    "\n",
    "When we have data in a CSV, you can load it into a DataFrame in Pandas using .read_csv():\n",
    "\n",
    "pd.read_csv('my-csv-file.csv')\n",
    "\n",
    "In the example above, the .read_csv() method is called. The CSV file called my-csv-file is passed in as an argument.\n",
    "\n",
    "We can also save data to a CSV, using .to_csv().\n",
    "\n",
    "df.to_csv('new-csv-file.csv')\n",
    "\n",
    "In the example above, the .to_csv() method is called on df (which represents a DataFrame object). The name of the CSV file is passed in as an argument (new-csv-file.csv). By default, this method will save the CSV file in your current directory."
   ]
  },
  {
   "cell_type": "markdown",
   "metadata": {},
   "source": [
    "### Inspecting a DataFrame\n",
    "\n",
    "When we load a new DataFrame from a CSV, we want to know what it looks like.\n",
    "\n",
    "If it’s a small DataFrame, you can display it by typing print(df).\n",
    "\n",
    "If it’s a larger DataFrame, it’s helpful to be able to inspect a few items without having to look at the entire DataFrame.\n",
    "\n",
    "The method .head() gives the first 5 rows of a DataFrame. If you want to see more rows, you can pass in the positional argument n. For example, df.head(10) would show the first 10 rows.\n",
    "\n",
    "The method df.info() gives some statistics for each column.\n",
    "\n",
    "### Selecting Columns\n",
    "\n",
    "Now we know how to create and load data. Let’s select parts of those datasets that are interesting or important to our analyses.\n",
    "\n",
    "![p](https://i.imgur.com/JypozZe.jpg)\n",
    "\n",
    "There are two possible syntaxes for selecting all values from a column:\n",
    "\n",
    "1. Select the column as if you were selecting a value from a dictionary using a key. In our example, we would type customers['age'] to select the ages.\n",
    "2. If the name of a column follows all of the rules for a variable name (doesn’t start with a number, doesn’t contain spaces or special characters, etc.), then you can select it using the following notation: df.MySecondColumn. In our example, we would type customers.age.\n",
    "\n",
    "When we select a single column, the result is called a Series."
   ]
  },
  {
   "cell_type": "markdown",
   "metadata": {},
   "source": [
    "![i](https://i.imgur.com/Ir47LXX.jpg)"
   ]
  },
  {
   "cell_type": "markdown",
   "metadata": {},
   "source": [
    "## Selecting Multiple Columns\n",
    "\n",
    "When we have a larger DataFrame, we might want to select just a few columns.\n",
    "\n",
    "To select two or more columns from a DataFrame, we use a list of the column names.\n",
    "\n",
    "![p](https://i.imgur.com/DzRMD3A.jpg)"
   ]
  },
  {
   "cell_type": "markdown",
   "metadata": {},
   "source": [
    "## Select Rows\n",
    "\n",
    "![p](https://i.imgur.com/pTH2vQV.jpg)\n",
    "\n",
    "Maybe our Customer Service department has just received a message from Joyce Waller, so we want to know exactly what she ordered. We want to select this single row of data.\n",
    "\n",
    "DataFrames are zero-indexed, meaning that we start with the 0th row and count up from there. Joyce Waller’s order is the 2nd row.\n",
    "\n",
    "We select it using the following command:\n",
    "\n",
    "orders.iloc[2]\n",
    "\n",
    "![p](https://i.imgur.com/KSLsRnN.jpg)"
   ]
  },
  {
   "cell_type": "markdown",
   "metadata": {},
   "source": [
    "## Selecting Multiple Rows\n",
    "\n",
    "We can also select multiple rows from a DataFrame.\n",
    "\n",
    "1. orders.iloc[3:7] would select all rows starting at the 3rd row and up to but not including the 7th row (i.e., the 3rd row, 4th row, 5th row, and 6th row)\n",
    "\n",
    "![p](https://i.imgur.com/LZ2mVtl.jpg)\n",
    "\n",
    "2. orders.iloc[:4] would select all rows up to, but not including the 4th row (i.e., the 0th, 1st, 2nd, and 3rd rows)\n",
    "\n",
    "3. orders.iloc[-3:] would select the rows starting at the 3rd to last row and up to and including the final row\n",
    "\n",
    "![p](https://i.imgur.com/nIJ6LKH.jpg)"
   ]
  },
  {
   "cell_type": "markdown",
   "metadata": {},
   "source": [
    "## Select Rows with Logic \n",
    "\n",
    "We can select a subset of a DataFrame by using logical statements:\n",
    "\n",
    "df[df.MyColumnName == desired_column_value]\n",
    "\n",
    "![p](https://i.imgur.com/KRcOdbU.jpg)\n",
    "\n",
    "Suppose we want to select all rows where the customer’s age is 30. We would use:\n",
    "\n",
    "df[df.age == 30]\n",
    "\n",
    "In Python, == is how we test if a value is exactly equal to another value.\n",
    "\n",
    "We can use other logical statements, such as:\n",
    "\n",
    "1. Greater Than, > — Here, we select all rows where the customer’s age is greater than 30:\n",
    "\n",
    "df[df.age > 30]\n",
    "\n",
    "2. Less Than, < — Here, we select all rows where the customer’s age is less than 30:\n",
    "\n",
    "df[df.age < 30]\n",
    "\n",
    "3. Not Equal, != — This snippet selects all rows where the customer’s name is not Clara Oswald:\n",
    "\n",
    "df[df.name != 'Clara Oswald']\n",
    "\n",
    "![p](https://i.imgur.com/SIOgF53.jpg)"
   ]
  },
  {
   "attachments": {},
   "cell_type": "markdown",
   "metadata": {},
   "source": [
    "We can also combine multiple logical statements, as long as each statement is in parentheses.\n",
    "\n",
    "![p](https://i.imgur.com/OQBayAK.jpg)\n",
    "\n",
    "![s](https://i.imgur.com/IRrnwzW.jpg)\n",
    "\n",
    "![p](https://i.imgur.com/8Ve1IDU.jpg)\n",
    "\n",
    "![p](https://i.imgur.com/yXw3yR6.jpg)"
   ]
  },
  {
   "cell_type": "markdown",
   "metadata": {},
   "source": [
    "## Setting Indices\n",
    "\n",
    "![p](https://i.imgur.com/9X2RJaK.jpg)\n",
    "\n",
    "![p](https://i.imgur.com/h4ieuNA.jpg)\n",
    "\n",
    "![p](https://i.imgur.com/xSNAZPv.jpg)"
   ]
  },
  {
   "cell_type": "markdown",
   "metadata": {},
   "source": [
    "## Review or Summary of Whatever we discussed above\n",
    "\n",
    "![i](https://i.imgur.com/iSQOQUz.jpg)\n",
    "\n",
    "![p](https://i.imgur.com/Oar7AI1.jpg)"
   ]
  },
  {
   "cell_type": "markdown",
   "metadata": {},
   "source": [
    "## Quiz Questions and Solutions\n",
    "  \n",
    "![p](https://i.imgur.com/h7XM00n.jpg)\n",
    "\n",
    "![p](https://i.imgur.com/dMSWjos.jpg)\n",
    "\n",
    "![p](https://i.imgur.com/Xk5ge58.jpg)\n",
    "\n",
    "![p](https://i.imgur.com/SKmRbKq.jpg)\n",
    "\n",
    "![p](https://i.imgur.com/R0Umw94.jpg)\n",
    "\n",
    "![p](https://i.imgur.com/zPP2EDT.jpg)\n",
    "\n",
    "![p](https://i.imgur.com/0KwiJbI.jpg)\n",
    "\n",
    "![p](https://i.imgur.com/gyHV64w.jpg)\n",
    "\n",
    "![p](https://i.imgur.com/WXFAxcP.jpg)"
   ]
  },
  {
   "cell_type": "markdown",
   "metadata": {},
   "source": [
    "# Modifying DataFrames\n",
    "\n",
    "## Adding a Column\n",
    "\n",
    "Sometimes, we want to add a column to an existing DataFrame. We might want to add new information or perform a calculation based on the data that we already have.\n",
    "\n",
    "One way that we can add a new column is by giving a list of the same length as the existing DataFrame.\n",
    "\n",
    "![p](https://i.imgur.com/TYFJXoS.jpg)\n",
    "\n",
    "We can also add a new column that is the same for all rows in the DataFrame. \n",
    "\n",
    "![p](https://i.imgur.com/UpFipyV.jpg)"
   ]
  },
  {
   "cell_type": "markdown",
   "metadata": {},
   "source": [
    " We can add a new column by performing an operation on the existing columns.\n",
    " \n",
    " ![p](https://i.imgur.com/XjgREO9.jpg)"
   ]
  }
 ],
 "metadata": {
  "kernelspec": {
   "display_name": "Python 3",
   "language": "python",
   "name": "python3"
  },
  "language_info": {
   "codemirror_mode": {
    "name": "ipython",
    "version": 3
   },
   "file_extension": ".py",
   "mimetype": "text/x-python",
   "name": "python",
   "nbconvert_exporter": "python",
   "pygments_lexer": "ipython3",
   "version": "3.7.4"
  }
 },
 "nbformat": 4,
 "nbformat_minor": 2
}
