{
 "cells": [
  {
   "cell_type": "markdown",
   "metadata": {},
   "source": [
    "![i](https://i.imgur.com/TPaYr1f.jpg)\n",
    "\n",
    "![i](https://i.imgur.com/30DsT2N.jpg)\n",
    "\n",
    "![i](https://i.imgur.com/pwlZQ1z.jpg)\n",
    "\n",
    "![i](https://i.imgur.com/M4i4dWz.jpg)\n",
    "\n",
    "![i](https://i.imgur.com/30fg06W.jpg)\n",
    "\n",
    "![i](https://i.imgur.com/XnGtNU1.jpg)\n",
    "\n",
    "![i](https://i.imgur.com/g6kXFOe.jpg)\n"
   ]
  },
  {
   "cell_type": "code",
   "execution_count": null,
   "metadata": {},
   "outputs": [],
   "source": []
  }
 ],
 "metadata": {
  "kernelspec": {
   "display_name": "Python 3",
   "language": "python",
   "name": "python3"
  },
  "language_info": {
   "codemirror_mode": {
    "name": "ipython",
    "version": 3
   },
   "file_extension": ".py",
   "mimetype": "text/x-python",
   "name": "python",
   "nbconvert_exporter": "python",
   "pygments_lexer": "ipython3",
   "version": "3.7.4"
  }
 },
 "nbformat": 4,
 "nbformat_minor": 2
}
