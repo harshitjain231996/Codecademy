{
 "cells": [
  {
   "cell_type": "markdown",
   "metadata": {},
   "source": [
    "## Chunking Noun Phrases\n",
    "\n",
    "While you are able to chunk any sequence of parts of speech that you like, there are certain types of chunking that are linguistically helpful for determining meaning and bias in a piece of text. One such type of chunking is NP-chunking, or noun phrase chunking. A noun phrase is a phrase that contains a noun and operates, as a unit, as a noun.\n",
    "\n",
    "A popular form of noun phrase begins with a determiner DT, which specifies the noun being referenced, followed by any number of adjectives JJ, which describe the noun, and ends with a noun NN.\n",
    "\n",
    "Consider the part-of-speech tagged sentence below:\n",
    "\n",
    "[('we', 'PRP'), ('are', 'VBP'), ('so', 'RB'), ('grateful', 'JJ'), ('to', 'TO'), ('you', 'PRP'), ('for', 'IN'), ('having', 'VBG'), ('killed', 'VBN'), ('the', 'DT'), ('wicked', 'JJ'), ('witch', 'NN'), ('of', 'IN'), ('the', 'DT'), ('east', 'NN'), (',', ','), ('and', 'CC'), ('for', 'IN'), ('setting', 'VBG'), ('our', 'PRP$'), ('people', 'NNS'), ('free', 'VBP'), ('from', 'IN'), ('bondage', 'NN'), ('.', '.')]\n",
    "\n",
    "Can you spot the three noun phrases of the form described above? They are:\n",
    "\n",
    "(('the', 'DT'), ('wicked', 'JJ'), ('witch', 'NN'))\n",
    "(('the', 'DT'), ('east', 'NN'))\n",
    "(('bondage', 'NN'))\n",
    "\n",
    "With the help of a regular expression defined chunk grammar, you can easily find all the non-overlapping noun phrases in a piece of text! Just like in normal regular expressions, you can use quantifiers to indicate how many of each part of speech you want to match.\n",
    "\n",
    "![i](https://i.imgur.com/qCSB5Eo.jpg)\n",
    "\n",
    "By finding all the NP-chunks in a text, you can perform a frequency analysis and identify important, recurring noun phrases. You can also use these NP-chunks as pseudo-topics and tag articles and documents by their highest count NP-chunks! Or perhaps your analysis has you looking at the adjective choices an author makes for different nouns.\n",
    "\n",
    "![i](https://i.imgur.com/369jYjW.jpg)\n",
    "\n",
    "![i1](https://i.imgur.com/Nv51e1V.jpg)"
   ]
  },
  {
   "cell_type": "markdown",
   "metadata": {},
   "source": [
    "## Verb Phrase Chunking\n",
    "\n",
    "A verb phrase is a phrase that contains a verb and its complements, objects, or modifiers.\n",
    "\n",
    "Verb phrases can take a variety of structures, and here you will consider two. The first structure begins with a verb VB of any tense, followed by a noun phrase, and ends with an optional adverb RB of any form. The second structure switches the order of the verb and the noun phrase, but also ends with an optional adverb.\n",
    "\n",
    "Both structures are considered because verb phrases of each form are essentially the same in meaning. For example, consider the part-of-speech tagged verb phrases given below:\n",
    "\n",
    "(('said', 'VBD'), ('the', 'DT'), ('cowardly', 'JJ'), ('lion', 'NN'))\n",
    "('the', 'DT'), ('cowardly', 'JJ'), ('lion', 'NN')), (('said', 'VBD'),\n",
    "\n",
    "![i](https://i.imgur.com/thw5H74.jpg)\n",
    "\n",
    "![i](https://i.imgur.com/i4BncMf.jpg)\n",
    "\n",
    "Just like with NP-chunks, you can find all the VP-chunks in a text and perform a frequency analysis to identify important, recurring verb phrases. These verb phrases can give insight into what kind of action different characters take or how the actions that characters take.\n",
    "\n",
    "![i](https://i.imgur.com/A4QXM7M.jpg)\n",
    "\n",
    "![i](https://i.imgur.com/H2ylh8I.jpg)\n",
    "\n",
    "![i](https://i.imgur.com/KTvPmfA.jpg)"
   ]
  },
  {
   "cell_type": "markdown",
   "metadata": {},
   "source": [
    "## Chunk Filtering\n",
    "\n",
    "Chunk filtering lets you define what parts of speech you do not want in a chunk and remove them.\n",
    "\n",
    "A popular method for performing chunk filtering is to chunk an entire sentence together and then indicate which parts of speech are to be filtered out. If the filtered parts of speech are in the middle of a chunk, it will split the chunk into two separate chunks! The chunk grammar you can use to perform chunk filtering is given below:\n",
    "\n",
    "![i](https://i.imgur.com/bFcsa4j.jpg)\n",
    "\n",
    "![i](https://i.imgur.com/wltczaX.jpg)\n",
    "\n",
    "![i](https://i.imgur.com/dSKmtYs.jpg)"
   ]
  },
  {
   "cell_type": "markdown",
   "metadata": {},
   "source": [
    "## Summary \n",
    "\n",
    "1. The re module’s .compile() and .match() methods allow you to enter any regex pattern and look for a single match at the beginning of a piece of text\n",
    "\n",
    "2. The re module’s .search() method lets you find a single match to a regex pattern anywhere in a string, while the .findall() method finds all the matches of a regex pattern in a string\n",
    "\n",
    "3. Part-of-speech tagging identifies and labels the part of speech of words in a sentence, and can be performed in nltk using the pos_tag() function\n",
    "\n",
    "4. Chunking groups together patterns of words by their part-of-speech tag. Chunking can be performed in nltk by defining a piece of chunk grammar using regular expression syntax and calling a RegexpParser‘s .parse() method on a word tokenized sentence\n",
    "\n",
    "5. NP-chunking chunks together an optional determiner DT, any number of adjectives JJ, and a noun NN to form a noun phrase. The frequency of different NP-chunks can identify important topics in a text or demonstrate how an author describes different subjects\n",
    "\n",
    "6. VP-chunking chunks together a verb VB, a noun phrase, and an optional adverb RB to form a verb phrase. The frequency of different VP-chunks can give insight into what kind of action different subjects take or how the actions that different subjects take are described by an author, potentially indicating bias\n",
    "\n",
    "7. Chunk filtering provides an alternative means of chunking by specifying what parts of speech you do not want in a chunk and removing them\n",
    "\n",
    "Verb phrase chunking is useful for gaining insight into the action that characters and subjects take as well as how that action is described by the author.\n",
    "\n",
    "What does nltk‘s RegexpParser‘s .parse() method do?\n",
    "\n",
    "The .parse() method uses the RegexpParser‘s chunk grammar to chunk a sentence that is passed to it.\n",
    "\n",
    "![i](https://i.imgur.com/nOzWgtL.jpg)\n",
    "\n",
    "![i](https://i.imgur.com/hNUKBdK.jpg)\n",
    "\n"
   ]
  },
  {
   "cell_type": "code",
   "execution_count": null,
   "metadata": {},
   "outputs": [],
   "source": []
  }
 ],
 "metadata": {
  "kernelspec": {
   "display_name": "Python 3",
   "language": "python",
   "name": "python3"
  },
  "language_info": {
   "codemirror_mode": {
    "name": "ipython",
    "version": 3
   },
   "file_extension": ".py",
   "mimetype": "text/x-python",
   "name": "python",
   "nbconvert_exporter": "python",
   "pygments_lexer": "ipython3",
   "version": "3.7.4"
  }
 },
 "nbformat": 4,
 "nbformat_minor": 2
}
