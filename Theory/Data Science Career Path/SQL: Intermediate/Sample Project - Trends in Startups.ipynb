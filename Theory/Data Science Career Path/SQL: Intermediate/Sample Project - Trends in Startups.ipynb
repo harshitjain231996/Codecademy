{
 "cells": [
  {
   "cell_type": "markdown",
   "metadata": {},
   "source": [
    "# Some Honourable Mentions only since other  statements were fairly simple!\n",
    "\n",
    "![1](https://i.imgur.com/YQf7t5q.jpg)\n",
    "\n",
    "![2](https://i.imgur.com/oFSpUis.jpg)\n",
    "\n",
    "![3](https://i.imgur.com/9SzhfPi.jpg)\n",
    "\n",
    "![4](https://i.imgur.com/kTrhrjA.jpg)\n",
    "\n",
    "![5](https://i.imgur.com/nevzDUP.jpg)"
   ]
  }
 ],
 "metadata": {
  "kernelspec": {
   "display_name": "Python 3",
   "language": "python",
   "name": "python3"
  },
  "language_info": {
   "codemirror_mode": {
    "name": "ipython",
    "version": 3
   },
   "file_extension": ".py",
   "mimetype": "text/x-python",
   "name": "python",
   "nbconvert_exporter": "python",
   "pygments_lexer": "ipython3",
   "version": "3.7.4"
  }
 },
 "nbformat": 4,
 "nbformat_minor": 2
}
