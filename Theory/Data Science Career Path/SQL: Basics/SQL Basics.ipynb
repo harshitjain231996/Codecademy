{
 "cells": [
  {
   "cell_type": "markdown",
   "metadata": {},
   "source": [
    "## Select\n",
    "\n",
    "SELECT is used every time you want to query data from a database and * means all columns.\n",
    "\n",
    "Suppose we are only interested in two of the columns. We can select individual columns by their names (separated by a comma):\n",
    "\n",
    "SELECT column1, column2 \n",
    "\n",
    "FROM table_name;\n",
    "\n",
    "To make it easier to read, we moved FROM to another line.\n",
    "\n",
    "Line breaks don’t mean anything specific in SQL. We could write this entire query in one line, and it would run just fine."
   ]
  },
  {
   "cell_type": "markdown",
   "metadata": {},
   "source": [
    "## As\n",
    "\n",
    "Knowing how SELECT works, suppose we have the code below:\n",
    "\n",
    "SELECT name AS 'Titles'\n",
    "\n",
    "FROM movies;\n",
    "\n",
    "AS is a keyword in SQL that allows you to rename a column or table using an alias. The new name can be anything you want as long as you put it inside of single quotes. Here we renamed the name column as Titles.\n",
    "\n",
    "#### Some important things to note:\n",
    "\n",
    "Although it’s not always necessary, it’s best practice to surround your aliases with single quotes.\n",
    "\n",
    "When using AS, the columns are not being renamed in the table. The aliases only appear in the result."
   ]
  },
  {
   "cell_type": "markdown",
   "metadata": {},
   "source": [
    "## Distinct\n",
    "When we are examining data in a table, it can be helpful to know what distinct values exist in a particular column.\n",
    "\n",
    "DISTINCT is used to return unique values in the output. It filters out all duplicate values in the specified column(s).\n",
    "\n",
    "**Filtering the results of a query is an important skill in SQL.**"
   ]
  },
  {
   "cell_type": "markdown",
   "metadata": {},
   "source": [
    "## Where\n",
    "We can restrict our query results using the WHERE clause in order to obtain only the information we want.\n",
    "\n",
    "WHERE clause filters the result set to only include rows where the following condition is true.\n",
    "\n",
    "The > is an operator. Operators create a condition that can be evaluated as either true or false.\n",
    "\n",
    "Comparison operators used with the WHERE clause are:\n",
    "\n",
    "    1. = equal to\n",
    "\n",
    "    2. != not equal to\n",
    "\n",
    "    3. > greater than\n",
    "\n",
    "    4. < less than\n",
    "\n",
    "    5. >= greater than or equal to\n",
    "\n",
    "    6. <= less than or equal to"
   ]
  },
  {
   "cell_type": "markdown",
   "metadata": {},
   "source": [
    "## Like \n",
    "\n",
    "LIKE can be a useful operator when you want to compare similar values.\n",
    "\n",
    "The movies table contains two films with similar titles, ‘Se7en’ and ‘Seven’.\n",
    "\n",
    "How could we select all movies that start with ‘Se’ and end with ‘en’ and have exactly one character in the middle?\n",
    "\n",
    "SELECT * \n",
    "FROM movies\n",
    "WHERE name LIKE 'Se_en';\n",
    "\n",
    "LIKE is a special operator used with the WHERE clause to search for a specific pattern in a column.\n",
    "\n",
    "name LIKE 'Se_en' is a condition evaluating the name column for a specific pattern.\n",
    "\n",
    "Se_en represents a pattern with a wildcard character.\n",
    "\n",
    "The _ means you can substitute any individual character here without breaking the pattern. The names Seven and Se7en both match this pattern."
   ]
  },
  {
   "cell_type": "markdown",
   "metadata": {},
   "source": [
    "The percentage sign % is another wildcard character that can be used with LIKE.\n",
    "\n",
    "This statement below filters the result set to only include movies with names that begin with the letter ‘A’:\n",
    "\n",
    "SELECT * \n",
    "FROM movies\n",
    "WHERE name LIKE 'A%';\n",
    "\n",
    "% is a wildcard character that matches zero or more missing letters in the pattern. For example:\n",
    "\n",
    "A% matches all movies with names that begin with letter ‘A’\n",
    "\n",
    "%a matches all movies that end with ‘a’\n",
    "\n",
    "We can also use % both before and after a pattern:\n",
    "\n",
    "SELECT * \n",
    "FROM movies \n",
    "WHERE name LIKE '%man%';\n",
    "\n",
    "Here, any movie that contains the word ‘man’ in its name will be returned in the result.\n",
    "\n",
    "LIKE is not case sensitive. ‘Batman’ and ‘Man of Steel’ will both appear in the result of the query above."
   ]
  },
  {
   "cell_type": "markdown",
   "metadata": {},
   "source": [
    "## Is Null\n",
    "The data you encounter will have missing values.\n",
    "\n",
    "Unknown values are indicated by NULL.\n",
    "\n",
    "It is not possible to test for NULL values with comparison operators, such as = and !=.\n",
    "\n",
    "Instead, we will have to use these operators:\n",
    "\n",
    "IS NULL\n",
    "\n",
    "IS NOT NULL\n",
    "\n",
    "To filter for all movies with an IMDb rating:\n",
    "\n",
    "SELECT name\n",
    "\n",
    "FROM movies \n",
    "\n",
    "WHERE imdb_rating IS NOT NULL;"
   ]
  },
  {
   "cell_type": "markdown",
   "metadata": {},
   "source": [
    "## Between\n",
    "The BETWEEN operator is used in a WHERE clause to filter the result set within a certain range. It accepts two values that are either numbers, text or dates.\n",
    "\n",
    "For example, this statement filters the result set to only include movies with years from 1990 up to, and including 1999.\n",
    "\n",
    "SELECT *\n",
    "FROM movies\n",
    "WHERE year BETWEEN 1990 AND 1999;\n",
    "\n",
    "When the values are text, BETWEEN filters the result set for within the alphabetical range.\n",
    "\n",
    "In this statement, BETWEEN filters the result set to only include movies with names that begin with the letter ‘A’ up to, but not including ones that begin with ‘J’.\n",
    "\n",
    "SELECT *\n",
    "FROM movies\n",
    "WHERE name BETWEEN 'A' AND 'J';\n",
    "\n",
    "However, if a movie has a name of simply ‘J’, it would actually match. This is because BETWEEN goes up to the second value — up to ‘J’. So the movie named ‘J’ would be included in the result set but not ‘Jaws’.\n",
    "\n",
    "![between](https://i.imgur.com/uOy9gWU.jpg)\n",
    "\n",
    "![between1](https://i.imgur.com/w19nIDU.jpg)"
   ]
  },
  {
   "cell_type": "markdown",
   "metadata": {},
   "source": [
    "## And\n",
    "\n",
    "Sometimes we want to combine multiple conditions in a WHERE clause to make the result set more specific and useful.\n",
    "\n",
    "One way of doing this is to use the AND operator. Here, we use the AND operator to only return 90’s romance movies.\n",
    "\n",
    "SELECT * \n",
    "FROM movies\n",
    "WHERE year BETWEEN 1990 AND 1999\n",
    "AND genre = 'romance';\n",
    "\n",
    "year BETWEEN 1990 AND 1999 is the 1st condition.\n",
    "\n",
    "genre = 'romance' is the 2nd condition.\n",
    "\n",
    "AND combines the two conditions. With AND, both conditions must be true for the row to be included in the result.\n",
    "\n",
    "![and](https://i.imgur.com/934Jvy1.jpg)"
   ]
  },
  {
   "cell_type": "markdown",
   "metadata": {},
   "source": [
    "## Or\n",
    "Similar to AND, the OR operator can also be used to combine multiple conditions in WHERE, but there is a fundamental difference:\n",
    "\n",
    "AND operator displays a row if all the conditions are true.\n",
    "\n",
    "OR operator displays a row if any condition is true.\n",
    "\n",
    "Suppose we want to check out a new movie or something action-packed:\n",
    "\n",
    "SELECT *\n",
    "FROM movies\n",
    "WHERE year > 2014\n",
    "   OR genre = 'action';\n",
    "   \n",
    "year > 2014 is the 1st condition.\n",
    "\n",
    "genre = 'action' is the 2nd condition.\n",
    "\n",
    "OR combines the two conditions. With OR, if any of the conditions are true, then the row is added to the result.\n",
    "\n",
    "![p](https://i.imgur.com/ukm1fUa.jpg)"
   ]
  },
  {
   "cell_type": "markdown",
   "metadata": {},
   "source": [
    "## Order By\n",
    "\n",
    "That’s it with WHERE and its operators. Moving on!\n",
    "\n",
    "It is often useful to list the data in our result set in a particular order.\n",
    "\n",
    "We can sort the results using ORDER BY, either alphabetically or numerically. Sorting the results often makes the data more useful and easier to analyze.\n",
    "\n",
    "For example, if we want to sort everything by the movie’s title from A through Z:\n",
    "\n",
    "SELECT *\n",
    "FROM movies\n",
    "ORDER BY name;\n",
    "\n",
    "ORDER BY is a clause that indicates you want to sort the result set by a particular column.\n",
    "\n",
    "name is the specified column.\n",
    "\n",
    "Sometimes we want to sort things in a decreasing order. For example, if we want to select all of the well-received movies, sorted from highest to lowest by their year:\n",
    "\n",
    "SELECT *\n",
    "FROM movies\n",
    "WHERE imdb_rating > 8\n",
    "ORDER BY year DESC;\n",
    "\n",
    "DESC is a keyword used in ORDER BY to sort the results in descending order (high to low or Z-A).\n",
    "\n",
    "ASC is a keyword used in ORDER BY to sort the results in ascending order (low to high or A-Z).\n",
    "\n",
    "The column that we ORDER BY doesn’t even have to be one of the columns that we’re displaying.\n",
    "\n",
    "Note: ORDER BY always goes after WHERE (if WHERE is present).\n",
    "\n",
    "![orderby](https://i.imgur.com/kDUJxg6.jpg)"
   ]
  },
  {
   "cell_type": "markdown",
   "metadata": {},
   "source": [
    "## Limit\n",
    "\n",
    "Most SQL tables contain hundreds of thousands of records. In those situations, it becomes important to cap the number of rows in the result.\n",
    "\n",
    "LIMIT is a clause that lets you specify the maximum number of rows the result set will have. This saves space on our screen and makes our queries run faster.\n",
    "\n",
    "LIMIT always goes at the very end of the query. Also, it is not supported in all SQL databases.\n",
    "\n",
    "![limit](https://i.imgur.com/b6ycEW3.jpg)"
   ]
  },
  {
   "cell_type": "markdown",
   "metadata": {},
   "source": [
    "## Case\n",
    "\n",
    "A CASE statement allows us to create different outputs (usually in the SELECT statement). It is SQL’s way of handling if-then logic.\n",
    "\n",
    "![case1](https://i.imgur.com/yzYRO49.jpg)\n",
    "\n",
    "![case2](https://i.imgur.com/Of0nUgF.jpg)"
   ]
  },
  {
   "cell_type": "markdown",
   "metadata": {},
   "source": [
    "## Review\n",
    "\n",
    "1. SELECT is the clause we use every time we want to query information from a database.\n",
    "2. AS renames a column or table.\n",
    "3. DISTINCT return unique values.\n",
    "4. WHERE is a popular command that lets you filter the results of the query based on conditions that you specify.\n",
    "5. LIKE and BETWEEN are special operators.\n",
    "6. AND and OR combines multiple conditions.\n",
    "7. ORDER BY sorts the result.\n",
    "8. LIMIT specifies the maximum number of rows that the query will return.\n",
    "9. CASE creates different outputs."
   ]
  },
  {
   "cell_type": "markdown",
   "metadata": {},
   "source": [
    "## Code Challenge related to the same concepts discussed above"
   ]
  },
  {
   "cell_type": "markdown",
   "metadata": {},
   "source": [
    "![p](https://i.imgur.com/9IOqKGD.jpg)\n",
    "\n",
    "![p](https://i.imgur.com/ftzU4jD.jpg)\n",
    "\n",
    "![p](https://i.imgur.com/0LDJJyD.jpg)\n",
    "\n",
    "![p](https://i.imgur.com/VDDVnOq.jpg)\n",
    "\n",
    "![p](https://i.imgur.com/L4TztqL.jpg)\n",
    "\n",
    "![p](https://i.imgur.com/t57wlXI.jpg)\n",
    "\n",
    "![p](https://i.imgur.com/Bxix9dH.jpg)\n",
    "\n",
    "![p](https://i.imgur.com/NkPy0u4.jpg)"
   ]
  },
  {
   "cell_type": "markdown",
   "metadata": {},
   "source": [
    "## Quiz solution"
   ]
  },
  {
   "cell_type": "markdown",
   "metadata": {},
   "source": [
    "![1](https://i.imgur.com/J8Gddm0.jpg)\n",
    "\n",
    "![p](https://i.imgur.com/I0EmxFk.jpg)\n",
    "\n",
    "![p](https://i.imgur.com/RiAt0MY.jpg)\n",
    "\n",
    "![p](https://i.imgur.com/QRGIObM.jpg)\n",
    "\n",
    "![p](https://i.imgur.com/xZ6lnSl.jpg)\n",
    "\n",
    "![p](https://i.imgur.com/m9e7lcp.jpg)\n",
    "\n",
    "![p](https://i.imgur.com/Pq97wGI.jpg)\n",
    "\n",
    "![p](https://i.imgur.com/kgbKtin.jpg)\n",
    "\n",
    "![p](https://i.imgur.com/XG8TNZs.jpg)"
   ]
  },
   {
   "cell_type": "markdown",
   "metadata": {},
   "source": [
    "## Honourable Mentions from simple projects"
   ]
  },
  {
   "cell_type": "markdown",
   "metadata": {},
   "source": [
    "![1](https://i.imgur.com/KHG7ubT.jpg)\n",
    "\n",
    "![2](https://i.imgur.com/Aup9Qvq.jpg)\n",
    "\n",
    "![3](https://i.imgur.com/Ixd1TVw.jpg)\n"
   ]
  }
 ],
 "metadata": {
  "kernelspec": {
   "display_name": "Python 3",
   "language": "python",
   "name": "python3"
  },
  "language_info": {
   "codemirror_mode": {
    "name": "ipython",
    "version": 3
   },
   "file_extension": ".py",
   "mimetype": "text/x-python",
   "name": "python",
   "nbconvert_exporter": "python",
   "pygments_lexer": "ipython3",
   "version": "3.7.4"
  }
 },
 "nbformat": 4,
 "nbformat_minor": 2
}
