{
 "cells": [
  {
   "cell_type": "markdown",
   "metadata": {},
   "source": [
    "## Quartiles\n",
    "A common way to communicate a high-level overview of a dataset is to find the values that split the data into four groups of equal size.\n",
    "\n",
    "By doing this, we can then say whether a new datapoint falls in the first, second, third, or fourth quarter of the data.\n",
    "\n",
    "![quartile 1](https://i.imgur.com/tm9iLoI.jpg)\n",
    "\n",
    "## The Second Quartile\n",
    "\n",
    "The second quartile (Q2) happens to be exactly the median. Half of the data falls below Q2 and half of the data falls above Q2.\n",
    "\n",
    "The first step in finding the quartiles of a dataset is to sort the data from smallest to largest. For example, below is an unsorted dataset:\n",
    "\n",
    "[8, 15, 4, -108, 16, 23, 42]\n",
    "\n",
    "After sorting the dataset, it looks like this:\n",
    "\n",
    "[-108, 4, 8, 15, 16, 23, 42]\n",
    "\n",
    "Now that the list is sorted, we can find Q2. In the example dataset above, Q2 (and the median) is 15 — there are three points below 15 and three points above 15.\n",
    "\n",
    "### Even Number of Datapoints\n",
    "\n",
    "You might be wondering what happens if there is an even number of points in the dataset. For example, if we remove the -108 from our dataset, it will now look like this:\n",
    "\n",
    "[4, 8, 15, 16, 23, 42]\n",
    "\n",
    "Q2 now falls somewhere between 15 and 16. There are a couple of different strategies that you can use to calculate Q2 in this situation. One of the more common ways is to take the average of those two numbers. In this case, that would be 15.5.\n",
    "\n",
    "![2nd quartile](https://i.imgur.com/rofd1ps.jpg)"
   ]
  },
  {
   "cell_type": "markdown",
   "metadata": {},
   "source": [
    "## Q1 and Q3\n",
    "\n",
    "Now that we’ve found Q2, we can use that value to help us find Q1 and Q3. Recall our demo dataset:\n",
    "\n",
    "[-108, 4, 8, 15, 16, 23, 42]\n",
    "\n",
    "In this example, Q2 is 15. To find Q1, we take all of the data points smaller than Q2 and find the median of those points. In this case, the points smaller than Q2 are:\n",
    "\n",
    "[-108, 4, 8]\n",
    "\n",
    "The median of that smaller dataset is 4. That’s Q1!\n",
    "\n",
    "To find Q3, do the same process using the points that are larger than Q2. We have the following points:\n",
    "\n",
    "[16, 23, 42]\n",
    "\n",
    "The median of those points is 23. That’s Q3! We now have three points that split the original dataset into groups of four equal sizes.\n",
    "\n",
    "![q1 and q3](https://i.imgur.com/AjhN2T0.jpg)\n",
    "\n",
    "![q1 and q3 1](https://i.imgur.com/TLs1D0m.jpg)"
   ]
  },
  {
   "cell_type": "markdown",
   "metadata": {},
   "source": [
    "## Method Two: Including Q2\n",
    "\n",
    "We just learned a commonly used method to calculate the quartiles of a dataset. However, there is another method that is equally accepted that results in different values!\n",
    "\n",
    "Note that there is no universally agreed upon method of calculating quartiles, and as a result, two different tools might report different results.\n",
    "\n",
    "The second method includes Q2 when trying to calculate Q1 and Q3. Let’s take a look at an example:\n",
    "\n",
    "[-108, 4, 8, 15, 16, 23, 42]\n",
    "\n",
    "Using the first method, we found Q1 to be 4. When looking at all of the points below Q2, we excluded Q2. Using this second method, we include Q2 in each half.\n",
    "\n",
    "For example, when calculating Q1 using this new method, we would now find the median of this dataset:\n",
    "\n",
    "[-108, 4, 8, 15]\n",
    "\n",
    "Using this method, Q1 is 6.\n",
    "\n",
    "![q2a](https://i.imgur.com/jhsBAMn.jpg)\n",
    "\n",
    "![q2b](https://i.imgur.com/c4eWFTK.jpg)"
   ]
  },
  {
   "cell_type": "markdown",
   "metadata": {},
   "source": [
    "## Quartiles in NumPy\n",
    "\n",
    "We were able to find quartiles manually by looking at the dataset and finding the correct division points. But that gets much harder when the dataset starts to get bigger. Luckily, there is a function in the NumPy library that will find the quartiles for you.\n",
    "\n",
    "The NumPy function that we’ll be using is named quantile()\n",
    "\n",
    "The code below calculates the third quartile of the given dataset:\n",
    "\n",
    "import numpy as np\n",
    "\n",
    "dataset = [50, 10, 4, -3, 4, -20, 2]\n",
    "\n",
    "third_quartile = np.quantile(dataset, 0.75)\n",
    "\n",
    "The quantile() function takes two parameters. The first is the dataset you’re interested in. The second is a number between 0 and 1. Since we calculated the third quartile, we used 0.75 — we want the point that splits the first 75% of the data from the rest.\n",
    "\n",
    "For the second quartile, we’d use 0.5. This will give you the point that 50% of the data is below and 50% is above.\n",
    "\n",
    "Notice that the dataset doesn’t need to be sorted for NumPy’s function to work!\n",
    "\n",
    "![quartiles](https://i.imgur.com/6mlajcQ.jpg)\n",
    "\n",
    "Quartiles are some of the most commonly used descriptive statistics. For example, You might see schools or universities think about quartiles when considering which students to accept. Businesses might compare their revenue to other companies by looking at quartiles.\n",
    "\n",
    "In fact quartiles are so commonly used that the three quartiles, along with the minimum and the maximum values of a dataset, are called the five-number summary of the dataset. These five numbers help you quickly get a sense of the range, centrality, and spread of the dataset."
   ]
  },
  {
   "cell_type": "markdown",
   "metadata": {},
   "source": [
    "## Quantiles\n",
    "\n",
    "Quantiles are points that split a dataset into groups of equal size. For example, let’s say you just took a test and wanted to know whether you’re in the top 10% of the class. One way to determine this would be to split the data into ten groups with an equal number of datapoints in each group and see which group you fall into.\n",
    "\n",
    "![quantile 1](https://i.imgur.com/eqG1CeG.jpg)\n",
    "\n",
    "The NumPy library has a function named quantile() that will quickly calculate the quantiles of a dataset for you.\n",
    "\n",
    "quantile() takes two parameters. The first is the dataset that you are using. The second parameter is a single number or a list of numbers between 0 and 1. These numbers represent the places in the data where you want to split.\n",
    "\n",
    "![quantile 2](https://i.imgur.com/vTmxh21.jpg)\n",
    "\n",
    "![quantile 3](https://i.imgur.com/HQUyqJ6.jpg)"
   ]
  },
  {
   "cell_type": "markdown",
   "metadata": {},
   "source": [
    "## Many Quantiles\n",
    "\n",
    "In the last exercise, we found a single “quantile” — we split the first 23% of the data away from the remaining 77%.\n",
    "\n",
    "However, quantiles are usually a set of values that split the data into groups of equal size. For example, you wanted to get the 5-quantiles, or the four values that split the data into five groups of equal size, you could use this code:\n",
    "\n",
    "![many quantiles](https://i.imgur.com/efmG5Z8.jpg)\n",
    "\n",
    "![many quantiles 1](https://i.imgur.com/Wa8cm8X.jpg)\n",
    "\n",
    "![quantile 4](https://i.imgur.com/SHUkPbz.jpg)\n",
    "\n",
    "![quantile 5](https://i.imgur.com/chSboJe.jpg)"
   ]
  },
  {
   "cell_type": "markdown",
   "metadata": {},
   "source": [
    "## Common Quantiles\n",
    "\n",
    "One of the most common quantiles is the 2-quantile. This value splits the data into two groups of equal size. Half the data will be above this value, and half the data will be below it. This is also known as the median!\n",
    "\n",
    "![quantile 7](https://i.imgur.com/zEoa43e.jpg)\n",
    "\n",
    "![quantile 6](https://i.imgur.com/z7yzL3b.jpg)\n",
    "\n",
    "![quantile 8](https://i.imgur.com/Kxuw4gA.jpg)"
   ]
  },
  {
   "cell_type": "markdown",
   "metadata": {},
   "source": [
    "## Quantiles Review\n",
    "\n",
    "![quantile 9](https://i.imgur.com/moNS3Xn.jpg)\n",
    "\n",
    "![quantile 10](https://i.imgur.com/pvhBkSQ.jpg)"
   ]
  },
  {
   "cell_type": "markdown",
   "metadata": {},
   "source": [
    "## InterQuartile Range\n",
    "\n",
    "One of the most common statistics to describe a dataset is the range. The range of a dataset is the difference between the maximum and minimum values. While this descriptive statistic is a good start, it is important to consider the impact outliers have on the results:\n",
    "\n",
    "![iqr1](https://i.imgur.com/CteHtMp.jpg)\n",
    "\n",
    "![iqr2](https://i.imgur.com/hXpqZxE.jpg)\n",
    "\n",
    "![interquartile range](https://i.imgur.com/crvygm9.jpg)\n",
    "\n",
    "![iqr3](https://i.imgur.com/JIWLb3O.jpg)"
   ]
  },
  {
   "cell_type": "markdown",
   "metadata": {},
   "source": [
    "The iqr() function takes a dataset as a parameter and returns the Interquartile Range. Notice that when we imported iqr(), we imported it from the stats submodule:\n",
    "\n",
    "From scipy.stats import iqr\n",
    "\n",
    "dataset = [4, 10, 38, 85, 193]\n",
    "\n",
    "interquartile_range = iqr(dataset)\n",
    "\n",
    "![iqr4](https://i.imgur.com/5pduIJu.jpg)"
   ]
  },
  {
   "cell_type": "markdown",
   "metadata": {},
   "source": [
    "## Review of InterQuartile Range\n",
    "\n",
    "The main takeaway of the IQR is that it is a statistic, like the range, that helps describe the spread of the center of the data.\n",
    "\n",
    "However, unlike the range, the IQR is robust. A statistic is robust when outliers have little impact on it. For example, the IQRs of the two datasets below are identical, even though one has a massive outlier.\n",
    "\n",
    "dataset_one = [6, 9, 10, 45, 190, 200] #IQR is 144.5\n",
    "\n",
    "dataset_two = [6, 9, 10, 45, 190, 20000000] #IQR is 144.5\n",
    "\n",
    "By looking at the IQR instead of the range, you can get a better sense of the spread of the middle of the data.\n",
    "\n",
    "The interquartile range is displayed in a commonly-used graph — the box plot.\n",
    "\n",
    "In a box plot, the ends of the box are Q1 and Q3. So the length of the box is the IQR.\n",
    "\n",
    "![bp](https://i.imgur.com/KJN6xAS.jpg)"
   ]
  },
  {
   "cell_type": "markdown",
   "metadata": {},
   "source": [
    "## Quiz\n",
    "\n",
    "![qq1](https://i.imgur.com/EDYeIft.jpg)\n",
    "\n",
    "![qq2](https://i.imgur.com/42YeQMj.jpg)\n",
    "\n",
    "![qq3](https://i.imgur.com/BRqxin9.jpg)\n",
    "\n",
    "![qq4](https://i.imgur.com/TBy15tw.jpg)\n",
    "\n",
    "![qq5](https://i.imgur.com/DPWvtBj.jpg)\n",
    "\n",
    "![qq6](https://i.imgur.com/lr2KUhB.jpg)\n",
    "\n",
    "![qq7](https://i.imgur.com/aST6Mw6.jpg)\n",
    "\n",
    "![qq8](https://i.imgur.com/vLpqgZs.jpg)\n",
    "\n",
    "![qq9](https://i.imgur.com/uV8dmCw.jpg)\n",
    "\n",
    "![qq10](https://i.imgur.com/lHSbiao.jpg)"
   ]
  }
 ],
 "metadata": {
  "kernelspec": {
   "display_name": "Python 3",
   "language": "python",
   "name": "python3"
  },
  "language_info": {
   "codemirror_mode": {
    "name": "ipython",
    "version": 3
   },
   "file_extension": ".py",
   "mimetype": "text/x-python",
   "name": "python",
   "nbconvert_exporter": "python",
   "pygments_lexer": "ipython3",
   "version": "3.7.4"
  }
 },
 "nbformat": 4,
 "nbformat_minor": 2
}
