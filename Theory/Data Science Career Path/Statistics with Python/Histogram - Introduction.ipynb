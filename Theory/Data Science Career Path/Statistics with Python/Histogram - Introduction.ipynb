{
 "cells": [
  {
   "cell_type": "markdown",
   "metadata": {},
   "source": [
    "Statistics is often pitched as a way to find certainty through data. As you’ll learn in this lesson, the power of statistics is more often used to communicate that certainty doesn’t really exist. Instead, it provides tools to communicate how uncertain we are about a problem.\n",
    "\n",
    "There’s no better tool to visualize the uncertainty and chaos in data than a histogram. A histogram displays the distribution of your underlying data.\n",
    "\n",
    "Histograms reveal, through numbers, interpretable trends in your data. They don’t provide a yes or no answer, but are often used as a starting point for discussion and informing an answer to your data."
   ]
  },
  {
   "cell_type": "markdown",
   "metadata": {},
   "source": [
    "## Summarizing Your Data\n",
    "\n",
    "The purpose of a histogram is to summarize data that you can use to inform a decision or explain a distribution.\n",
    "\n",
    "While a histogram is one of the most useful tools for communicating trends, people often use the average of a dataset to make broad claims about its underlying trends.\n",
    "\n",
    "While the average value of data may be useful to interpret where the data is centered, it can also be misleading.\n",
    "\n",
    "![hist1](https://i.imgur.com/NJWW9MQ.jpg)"
   ]
  },
  {
   "cell_type": "markdown",
   "metadata": {},
   "source": [
    "![hist2](https://i.imgur.com/CVMownC.jpg)\n",
    "\n",
    "![hist3](https://i.imgur.com/KNaUy97.jpg)\n",
    "\n",
    "![hist4](https://i.imgur.com/xYW97y9.jpg)"
   ]
  },
  {
   "cell_type": "markdown",
   "metadata": {},
   "source": [
    "## Bins and Count\n",
    "\n",
    "### Bins \n",
    "\n",
    "![bin](https://i.imgur.com/QwrxnAv.jpg)\n",
    "\n",
    "![bins1](https://i.imgur.com/OoCmGvX.jpg)\n",
    "\n",
    "### Count\n",
    "\n",
    "![count](https://i.imgur.com/WEfPMZp.jpg)"
   ]
  },
  {
   "cell_type": "markdown",
   "metadata": {},
   "source": [
    "## Histograms\n",
    "\n",
    "![histogram1](https://i.imgur.com/15do6ul.jpg)\n",
    "\n",
    "![histogram2](https://i.imgur.com/YoAwrzZ.jpg)\n",
    "\n",
    "![histogram3](https://i.imgur.com/gjOb59N.jpg)"
   ]
  },
  {
   "cell_type": "markdown",
   "metadata": {},
   "source": [
    "## Plotting a histogram\n",
    "\n",
    "![plotting a histogram]()"
   ]
  },
  {
   "cell_type": "markdown",
   "metadata": {},
   "source": [
    "## Finding out the best bin\n",
    "\n",
    "![best bin 1](https://i.imgur.com/dyytzSE.jpg)\n",
    "\n",
    "![best bin 2](https://i.imgur.com/63xi1OF.jpg)\n",
    "\n",
    "![best bin 3](https://i.imgur.com/ETrYJMr.jpg)"
   ]
  },
  {
   "cell_type": "markdown",
   "metadata": {},
   "source": [
    "## Importance of Histogram\n",
    "\n",
    "![hist imp](https://i.imgur.com/tU0pFqj.jpg)\n",
    "\n",
    "![hist imp 1](https://i.imgur.com/UckyzzV.jpg)"
   ]
  },
  {
   "cell_type": "markdown",
   "metadata": {},
   "source": [
    "## Sample Histogram Project i.e. the Travelling Project!\n",
    "\n",
    "![sample hist project](https://i.imgur.com/YUA1mB6.jpg)"
   ]
  },
  {
   "cell_type": "markdown",
   "metadata": {},
   "source": [
    "## Quiz on Histogram\n",
    "\n",
    "![qh1](https://i.imgur.com/cdRgeET.jpg)\n",
    "\n",
    "![qh2](https://i.imgur.com/7cEukRF.jpg)\n",
    "\n",
    "![qh4](https://i.imgur.com/IcjiXdV.jpg)\n",
    "\n",
    "![qh5](https://i.imgur.com/JzMDSf5.jpg)\n",
    "\n",
    "![qh6](https://i.imgur.com/QCmFLoG.jpg)\n",
    "\n",
    "![qh7](https://i.imgur.com/9WP6bCh.jpg)\n",
    "\n",
    "![qh8](https://i.imgur.com/D7C3UCk.jpg)"
   ]
  }
 ],
 "metadata": {
  "kernelspec": {
   "display_name": "Python 3",
   "language": "python",
   "name": "python3"
  },
  "language_info": {
   "codemirror_mode": {
    "name": "ipython",
    "version": 3
   },
   "file_extension": ".py",
   "mimetype": "text/x-python",
   "name": "python",
   "nbconvert_exporter": "python",
   "pygments_lexer": "ipython3",
   "version": "3.7.4"
  }
 },
 "nbformat": 4,
 "nbformat_minor": 2
}
