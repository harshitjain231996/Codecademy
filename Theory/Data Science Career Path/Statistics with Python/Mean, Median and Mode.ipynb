{
 "cells": [
  {
   "cell_type": "markdown",
   "metadata": {},
   "source": [
    "## Mean\n",
    "\n",
    "![me1](https://i.imgur.com/DkqY6jL.jpg)\n",
    "\n",
    "![me2](https://i.imgur.com/Xldg8i7.jpg)\n",
    "\n",
    "![npa1](https://i.imgur.com/SnRm4QO.jpg)\n",
    "\n",
    "![npa2](https://i.imgur.com/9AUJ8O6.jpg)\n",
    "\n",
    "![npf](https://i.imgur.com/k3fY0Sv.jpg)"
   ]
  },
  {
   "cell_type": "markdown",
   "metadata": {},
   "source": [
    "## Median\n",
    "\n",
    "![m1](https://i.imgur.com/mZpmjSn.jpg)\n",
    "\n",
    "![m2](https://i.imgur.com/rtMRDFl.jpg)\n",
    "\n",
    "![m3](https://i.imgur.com/8iQYuuM.jpg)\n",
    "\n",
    "![m4](https://i.imgur.com/MDtjEF1.jpg)"
   ]
  },
  {
   "cell_type": "markdown",
   "metadata": {},
   "source": [
    "## Mode\n",
    "\n",
    "![mo1](https://i.imgur.com/7NYjfFS.jpg)\n",
    "\n",
    "![mo2](https://i.imgur.com/tF92ark.jpg)\n",
    "\n",
    "![mo3](https://i.imgur.com/N9BNFeo.jpg)\n",
    "\n",
    "![mo4](https://i.imgur.com/AfGCpfZ.jpg)\n",
    "\n",
    "![mo5](https://i.imgur.com/K8H3vNa.jpg)\n",
    "\n",
    "![mo6](https://i.imgur.com/JUCaoBJ.jpg)"
   ]
  }
 ],
 "metadata": {
  "kernelspec": {
   "display_name": "Python 3",
   "language": "python",
   "name": "python3"
  },
  "language_info": {
   "codemirror_mode": {
    "name": "ipython",
    "version": 3
   },
   "file_extension": ".py",
   "mimetype": "text/x-python",
   "name": "python",
   "nbconvert_exporter": "python",
   "pygments_lexer": "ipython3",
   "version": "3.7.4"
  }
 },
 "nbformat": 4,
 "nbformat_minor": 2
}
