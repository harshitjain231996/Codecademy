{
 "cells": [
  {
   "cell_type": "markdown",
   "metadata": {},
   "source": [
    "# BoxPlots\n",
    "\n",
    "Boxplots are one of the most common ways to visualize a dataset. Like histograms, boxplots give you a sense of the central tendency and spread of the data.\n",
    "\n",
    "The line in the center of the box is the median.\n",
    "\n",
    "The edges of the box are the first and third quartiles. This makes the length of the box the interquartile range — the middle 50% of your data.\n",
    "\n",
    "The whiskers of the boxplot extend to include most of the data. There are many different ways to calculate the length of the whiskers.\n",
    "\n",
    "Outliers are points that fall beyond the whiskers. Those points are represented with dots. In the boxplot we’re showing, there are many outliers.\n",
    "\n",
    "## Median\n",
    "When making a box plot, the easiest place to start is the line that is inside the box. This line is the median of the dataset. Half of the data falls above that line and half falls below it.\n",
    "\n",
    "We can find the median of a dataset by using NumPy’s median() function.\n",
    "\n",
    "import numpy as np\n",
    "\n",
    "dataset = [4, 8, 15, 16, 23]\n",
    "\n",
    "dataset_median = np.median(dataset) # dataset_median stores the value 15"
   ]
  },
  {
   "cell_type": "markdown",
   "metadata": {},
   "source": [
    "## Interquartile Range\n",
    "\n",
    "Now that we’ve drawn the median, let’s draw the edges of the box. The box extends to the first and third quartile of the dataset.\n",
    "\n",
    "This visually splits the data into fourths. One-quarter of the data will fall outside of the box to the left. Another quarter of the data will fall between the left side of the box and the median line. A third quarter of the data falls between the median line and the right side of the box. And the last quarter of the data falls outside the box to the right.\n",
    "\n",
    "By drawing the edges of the box using the first and third quartiles, the interquartile range is visualized. The length of the box represents this commonly used descriptive statistic.\n",
    "\n",
    "We can use NumPy’s quantile() function to find the first and third quartile:\n",
    "\n",
    "dataset = [4, 8, 15, 16, 23]\n",
    "\n",
    "first_quartile = np.quantile(dataset, 0.25) \n",
    "\n",
    "third_quartile = np.quantile(dataset, 0.75)"
   ]
  },
  {
   "cell_type": "markdown",
   "metadata": {},
   "source": [
    "## Whiskers\n",
    "\n",
    "The whiskers of a boxplot display information related to the spread of the dataset.\n",
    "\n",
    "There are many different ways to plot the whiskers of a boxplot. You might see some boxplots where the whiskers extend to the minimum and maximum values. Some boxplots have whiskers that extend one standard deviation away from the mean of the data.\n",
    "\n",
    "However, one of the most commonly used methods of drawing the whiskers is to extend them 1.5 times the interquartile range from the first and third quartile.\n",
    "\n",
    "For example, let’s say you had a dataset where the first quartile was 4 and the third quartile was 9. The interquartile range for this dataset is 5.\n",
    "\n",
    "The whiskers would extend 1.5 times the length of the IQR. In this case, that is 1.5 * 5, or 7.5.\n",
    "\n",
    "We know the whiskers extend 7.5 units, but where do they start? They start at the edges of the box, or the first and third quartiles. In this case, the left whisker starts at the first quartile (4), and extend 7.5 units to the left. So the left whisker extends to -3.5. The right whisker starts at the third quartile (9) and extends to 16.5.\n",
    "\n",
    "![whiskers](https://i.imgur.com/1Kuljoc.jpg)\n",
    "\n",
    "![whiskers1](https://i.imgur.com/2R38gF7.jpg)\n",
    "\n",
    "![whiskers2](https://i.imgur.com/k16ss8T.jpg)"
   ]
  },
  {
   "cell_type": "markdown",
   "metadata": {},
   "source": [
    "## Outliers\n",
    "\n",
    "The final piece of a boxplot is the representation of outliers. An outlier is a point in the dataset that falls outside of the whiskers. Outliers are usually represented with a dot or an asterisk.\n",
    "\n",
    "![outlier1](https://i.imgur.com/4LX9Rqm.jpg)"
   ]
  },
  {
   "cell_type": "markdown",
   "metadata": {},
   "source": [
    "## Boxplots in Matplotlib\n",
    "\n",
    "![boxplot1](https://i.imgur.com/upCACk9.jpg)\n",
    "\n",
    "![boxplot2](https://i.imgur.com/jUuBQzJ.jpg)\n",
    "\n",
    "![boxplot3](https://i.imgur.com/X3d3STR.jpg)"
   ]
  },
  {
   "cell_type": "markdown",
   "metadata": {},
   "source": [
    "## Boxplot Review\n",
    "\n",
    "![boxplotr](https://i.imgur.com/DyWDAdo.jpg)\n",
    "\n",
    "![boxplotr1](https://i.imgur.com/IqEJfbw.jpg)\n",
    "\n",
    "![boxplotr2](https://i.imgur.com/L1wkEaO.jpg)"
   ]
  },
  {
   "cell_type": "markdown",
   "metadata": {},
   "source": [
    "## Quiz \n",
    "\n",
    "![qb1](https://i.imgur.com/Zfe9d7D.jpg)\n",
    "\n",
    "![qb2](https://i.imgur.com/G4sugjo.jpg)\n",
    "\n",
    "![qb3](https://i.imgur.com/iim6woK.jpg)\n",
    "\n",
    "![qb4](https://i.imgur.com/hSEBwSu.jpg)\n",
    "\n",
    "![qb5](https://i.imgur.com/TkTObRv.jpg)\n",
    "\n",
    "![qb6](https://i.imgur.com/uz1UjHy.jpg)\n",
    "\n",
    "![qb7](https://i.imgur.com/2CnbEal.jpg)\n",
    "\n",
    "![qb8](https://i.imgur.com/nooaYqe.jpg)\n",
    "\n",
    "![qb9](https://i.imgur.com/rj9bgcG.jpg)\n",
    "\n",
    "![qb10](https://i.imgur.com/XZIuLtL.jpg)"
   ]
  }
 ],
 "metadata": {
  "kernelspec": {
   "display_name": "Python 3",
   "language": "python",
   "name": "python3"
  },
  "language_info": {
   "codemirror_mode": {
    "name": "ipython",
    "version": 3
   },
   "file_extension": ".py",
   "mimetype": "text/x-python",
   "name": "python",
   "nbconvert_exporter": "python",
   "pygments_lexer": "ipython3",
   "version": "3.7.4"
  }
 },
 "nbformat": 4,
 "nbformat_minor": 2
}
