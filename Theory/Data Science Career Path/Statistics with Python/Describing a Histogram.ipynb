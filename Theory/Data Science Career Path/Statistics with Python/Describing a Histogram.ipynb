{
 "cells": [
  {
   "cell_type": "markdown",
   "metadata": {},
   "source": [
    "## Center\n",
    "\n",
    "One of the most common ways to summarize a dataset is to communicate its center. We will use average and median as our measures of centrality. \n",
    "\n",
    "## Spread\n",
    "\n",
    "Once you’ve found the center of your data, you can shift to identifying the extremes of your dataset: the minimum and maximum values. These values, taken with the mean and median, begin to indicate the shape of the underlying dataset.\n",
    "\n",
    "## Skew\n",
    "Once you have the center and range of your data, you can begin to describe its shape. The skew of a dataset is a description of the data’s symmetry.\n",
    "\n",
    "A dataset with one prominent peak, and similar tails to the left and right is called symmetric. The median and mean of a symmetric dataset are similar.\n",
    "\n",
    "![symmetric](https://i.imgur.com/B7AZEbm.jpg)\n",
    "\n",
    "A histogram with a tail that extends to the right is called a right-skewed dataset. The median of this dataset is less than the mean.\n",
    "\n",
    "![right skew](https://i.imgur.com/iOGUbRD.jpg)\n",
    "\n",
    "A histogram with one prominent peak to the right, and a tail that extends to the left is called a left-skewed dataset. The median of this dataset is greater than the mean.\n",
    "\n",
    "![left skew](https://i.imgur.com/e518CNg.jpg)\n",
    "\n",
    "## Modality\n",
    "The modality describes the number of peaks in a dataset. Thus far, we have only looked at datasets with one distinct peak, known as unimodal. This is the most common.\n",
    "\n",
    "![un and bi](https://i.imgur.com/wmIy69N.jpg)\n",
    "\n",
    "![mul and uni](https://i.imgur.com/NRwwuoo.jpg)"
   ]
  },
  {
   "cell_type": "markdown",
   "metadata": {},
   "source": [
    "![outlier](https://i.imgur.com/eht6IKn.jpg)"
   ]
  },
  {
   "cell_type": "markdown",
   "metadata": {},
   "source": [
    "## Sample Project\n",
    "\n",
    "![gp](https://i.imgur.com/aSK4mps.jpg)\n",
    "\n",
    "![p1](https://i.imgur.com/AU1kDn3.jpg)\n",
    "\n",
    "![p2](https://i.imgur.com/OFAoo3p.jpg)\n",
    "\n",
    "![p3](https://i.imgur.com/FB9bTo2.jpg)\n",
    "\n",
    "![p4](https://i.imgur.com/XBGDhZI.jpg)"
   ]
  },
  {
   "cell_type": "markdown",
   "metadata": {},
   "source": [
    "## Quiz and it's solutions\n",
    "\n",
    "![qdh1](https://i.imgur.com/FqKJMc1.jpg)\n",
    "\n",
    "![qdh2](https://i.imgur.com/CrgLVSr.jpg)\n",
    "\n",
    "![qdh3](https://i.imgur.com/mCAmmrJ.jpg)\n",
    "\n",
    "![qdh4](https://i.imgur.com/hK67MuN.jpg)\n",
    "\n",
    "![qdh5](https://i.imgur.com/nN7wJWM.jpg)\n",
    "\n",
    "![qdh6](https://i.imgur.com/pBjfPGp.jpg)\n",
    "\n",
    "![qdh7](https://i.imgur.com/5NcUyKv.jpg)\n",
    "\n",
    "![qdh8](https://i.imgur.com/cF3Gw9V.jpg)"
   ]
  }
 ],
 "metadata": {
  "kernelspec": {
   "display_name": "Python 3",
   "language": "python",
   "name": "python3"
  },
  "language_info": {
   "codemirror_mode": {
    "name": "ipython",
    "version": 3
   },
   "file_extension": ".py",
   "mimetype": "text/x-python",
   "name": "python",
   "nbconvert_exporter": "python",
   "pygments_lexer": "ipython3",
   "version": "3.7.4"
  }
 },
 "nbformat": 4,
 "nbformat_minor": 2
}
