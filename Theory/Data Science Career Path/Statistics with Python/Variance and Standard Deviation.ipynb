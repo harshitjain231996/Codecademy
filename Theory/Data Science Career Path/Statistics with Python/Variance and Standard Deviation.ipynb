{
 "cells": [
  {
   "cell_type": "markdown",
   "metadata": {},
   "source": [
    "## Variance\n",
    "\n",
    "Finding the mean, median, and mode of a dataset is a good way to start getting an understanding of the general shape of your data\n",
    "\n",
    "However, those three descriptive statistics only tell part of the story. Consider the two datasets below:\n",
    "\n",
    "dataset_one = [-4, -2, 0, 2, 4]\n",
    "\n",
    "dataset_two = [-400, -200, 0, 200, 400]\n",
    "\n",
    "These two datasets have the same mean and median — both of those values happen to be 0. If we only reported these two statistics, we would not be communicating any meaninful difference between these two datasets.\n",
    "\n",
    "This is where variance comes into play. Variance is a descriptive statistic that describes how spread out the points in a data set are.\n",
    "\n",
    "![var1](https://i.imgur.com/y3qSpG0.jpg)\n",
    "\n",
    "![var2](https://i.imgur.com/jXzqGBh.jpg)\n",
    "\n",
    "![var3](https://i.imgur.com/PKNWODv.jpg)\n",
    "\n",
    "![var4](https://i.imgur.com/5K0xjB2.jpg)\n",
    "\n",
    "![var5](https://i.imgur.com/PmmVniN.jpg)\n",
    "\n",
    "![var6](https://i.imgur.com/CcbCNIa.jpg)\n",
    "\n",
    "![var7](https://i.imgur.com/zlv6k67.jpg)\n",
    "\n",
    "![var8](https://i.imgur.com/7P5Z4FI.jpg)\n",
    "\n",
    "![var9](https://i.imgur.com/nBfh2rE.jpg)\n",
    "\n",
    "![var10](https://i.imgur.com/AuLdFjL.jpg)\n",
    "\n",
    "![var11](https://i.imgur.com/Mj7mTBa.jpg)\n",
    "\n",
    "![var12](https://i.imgur.com/imfG8HE.jpg)"
   ]
  },
  {
   "cell_type": "markdown",
   "metadata": {},
   "source": [
    "## Standard Deviation\n",
    "\n",
    "It turns out, using variance isn’t necessarily the best statistic to use to describe spread. Luckily, there is another statistic — standard deviation — that can be used instead.\n",
    "\n",
    "Variance is a tricky statistic to use because its units are different from both the mean and the data itself.\n",
    "\n",
    "![std1](https://i.imgur.com/bjcPmeP.jpg)\n",
    "\n",
    "![std2](https://i.imgur.com/kCYfTLU.jpg)\n",
    "\n",
    "![std3](https://i.imgur.com/qGCkynW.jpg)\n",
    "\n",
    "There is a NumPy function dedicated to finding the standard deviation of a dataset — we can cut out the step of first finding the variance. The NumPy function std() takes a dataset as a parameter and returns the standard deviation of that dataset:\n",
    "\n",
    "import numpy as np\n",
    "\n",
    "dataset = [4, 8, 15, 16, 23, 42]\n",
    "\n",
    "standard_deviation = np.std()\n",
    "\n",
    "![std4](https://i.imgur.com/JsfHeTT.jpg)\n",
    "\n",
    "![std5](https://i.imgur.com/kXTrYGK.jpg)\n",
    "\n",
    "![std6](https://i.imgur.com/nlJf3J1.jpg)\n",
    "\n",
    "![std7](https://i.imgur.com/2Dn1siQ.jpg)"
   ]
  },
  {
   "cell_type": "markdown",
   "metadata": {},
   "source": [
    "![qvs1](https://i.imgur.com/MeJIzBw.jpg)\n",
    "\n",
    "![qvs2](https://i.imgur.com/e8NQEpy.jpg)\n",
    "\n",
    "![qvs3](https://i.imgur.com/xUu8glb.jpg)\n",
    "\n",
    "![qvs4](https://i.imgur.com/j9yNSo5.jpg)\n",
    "\n",
    "![qvs5](https://i.imgur.com/dTjCgAq.jpg)\n",
    "\n",
    "![qvs6](https://i.imgur.com/0tqLMX1.jpg)\n",
    "\n",
    "![qvs7](https://i.imgur.com/itzkDft.jpg)"
   ]
  },
  {
   "cell_type": "markdown",
   "metadata": {},
   "source": [
    "![vsp1](https://i.imgur.com/V7AzJmM.jpg)\n",
    "\n",
    "![vsp2](https://i.imgur.com/iR5GBw9.jpg)\n",
    "\n",
    "![vsp3](https://i.imgur.com/tbE8hPz.jpg)"
   ]
  }
 ],
 "metadata": {
  "kernelspec": {
   "display_name": "Python 3",
   "language": "python",
   "name": "python3"
  },
  "language_info": {
   "codemirror_mode": {
    "name": "ipython",
    "version": 3
   },
   "file_extension": ".py",
   "mimetype": "text/x-python",
   "name": "python",
   "nbconvert_exporter": "python",
   "pygments_lexer": "ipython3",
   "version": "3.7.4"
  }
 },
 "nbformat": 4,
 "nbformat_minor": 2
}
