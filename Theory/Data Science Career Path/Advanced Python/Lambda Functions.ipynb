{
 "cells": [
  {
   "cell_type": "markdown",
   "metadata": {},
   "source": [
    "![lf1](https://i.imgur.com/E0mIqXj.jpg)\n",
    "\n",
    "![lf2](https://i.imgur.com/nMasgsC.jpg)\n",
    "\n",
    "![lf3](https://i.imgur.com/8rrEbFL.jpg)\n",
    "\n",
    "![lf4](https://i.imgur.com/60BIAaO.jpg)\n",
    "\n",
    "![lf5](https://i.imgur.com/2kFHH3T.jpg)\n",
    "\n",
    "![lfe1](https://i.imgur.com/OqwIef4.jpg)\n",
    "\n",
    "![lfe2](https://i.imgur.com/6zlrmcl.jpg)\n",
    "\n",
    "![lfe3](https://i.imgur.com/MIfIGOX.jpg)\n",
    "\n",
    "![lfe4](https://i.imgur.com/dcQVzrU.jpg)\n",
    "\n",
    "## Double Or Zero\n",
    "\n",
    "![lfe5](https://i.imgur.com/7FpNq6o.jpg)\n",
    "\n",
    "![lfe6](https://i.imgur.com/voGuZDe.jpg)\n",
    "\n",
    "![lfe7](https://i.imgur.com/Qc8ckCl.jpg)\n",
    "\n",
    "![lfe8](https://i.imgur.com/ltQhgoo.jpg)\n",
    "\n",
    "![lfe9](https://i.imgur.com/zaDrYNA.jpg)\n",
    "\n",
    "![lfe10](https://i.imgur.com/vZWPAfa.jpg)\n",
    "\n",
    "![lfe11](https://i.imgur.com/2WUh3gE.jpg)\n",
    "\n",
    "![lfe12](https://i.imgur.com/2h8HtCI.jpg)\n",
    "\n",
    "![lfe13](https://i.imgur.com/Q3hvzxe.jpg)"
   ]
  }
 ],
 "metadata": {
  "kernelspec": {
   "display_name": "Python 3",
   "language": "python",
   "name": "python3"
  },
  "language_info": {
   "codemirror_mode": {
    "name": "ipython",
    "version": 3
   },
   "file_extension": ".py",
   "mimetype": "text/x-python",
   "name": "python",
   "nbconvert_exporter": "python",
   "pygments_lexer": "ipython3",
   "version": "3.7.4"
  }
 },
 "nbformat": 4,
 "nbformat_minor": 2
}
