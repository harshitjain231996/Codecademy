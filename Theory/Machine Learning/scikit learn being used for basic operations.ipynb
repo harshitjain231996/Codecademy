{
 "cells": [
  {
   "cell_type": "markdown",
   "metadata": {},
   "source": [
    "\n",
    "![i](https://i.imgur.com/mywbMT1.jpg)\n",
    "\n",
    "![i](https://i.imgur.com/G5kq6th.jpg)\n",
    "\n",
    "![i](https://i.imgur.com/EGmv2CN.jpg)\n",
    "\n",
    "![i](https://i.imgur.com/dTiqqOq.jpg)\n",
    "\n",
    "![i](https://i.imgur.com/sY6E8Q6.jpg)\n",
    "\n",
    "![i](https://i.imgur.com/1qnza4y.jpg)\n"
   ]
  },
  {
   "cell_type": "code",
   "execution_count": null,
   "metadata": {},
   "outputs": [],
   "source": []
  }
 ],
 "metadata": {
  "kernelspec": {
   "display_name": "Python 3",
   "language": "python",
   "name": "python3"
  },
  "language_info": {
   "codemirror_mode": {
    "name": "ipython",
    "version": 3
   },
   "file_extension": ".py",
   "mimetype": "text/x-python",
   "name": "python",
   "nbconvert_exporter": "python",
   "pygments_lexer": "ipython3",
   "version": "3.7.4"
  }
 },
 "nbformat": 4,
 "nbformat_minor": 2
}
