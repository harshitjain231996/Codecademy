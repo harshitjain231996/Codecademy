{
 "cells": [
  {
   "cell_type": "markdown",
   "metadata": {},
   "source": [
    "## Introduction\n",
    "\n",
    "There are many different kinds of financial assets, or securities, ranging from real estate to government bonds to the common stock. But no matter the type of investment, there are two things that we always need to consider about each asset - the return and the risk. When speaking about investments, we express the calculated rate of return as a percentage.\n",
    "\n",
    "The rate of return is a measure of the amount of money gained or lost in an investment. A positive return signifies a profit and a negative return indicates a loss. The risk of an investment is defined as the likelihood of suffering a financial loss.\n",
    "\n",
    "There is often a tradeoff between risk and return, where the higher the potential return of an asset, the higher the risk involved. Thus, it is important to understand both aspects for making smart choices about an investment.\n",
    "\n",
    "![p](https://i.imgur.com/J3dNVzD.jpg)"
   ]
  },
  {
   "cell_type": "markdown",
   "metadata": {},
   "source": [
    "## Simple Rate of Return\n",
    "\n",
    "The most basic type of return is the simple rate of return. It is defined as the difference between the starting and ending price of an investment over a time period, divided by the starting price. If an investment returns dividends, those dividends should be added to the numerator.\n",
    "\n",
    "$$ R = (E-S+D)/S $$\n",
    "\n",
    "In the above formulae, \n",
    "\n",
    "R : simple rate of return\n",
    "\n",
    "S: starting price of investment\n",
    "\n",
    "E: ending price of investment\n",
    "\n",
    "D: dividend\n",
    "\n",
    "In the equation above, the numerator represents the absolute amount gained or lost in an investment. For example, if the starting price of an investment is 25 dollar and the ending price is 30 dollar, then there is a 5 dollar profit.\n",
    "\n",
    "While this gives us some information about the return of an investment, it is by itself not very useful for comparing between investments. That is, a 5 dollar profit from a 25 dollar investment may be a decent gain, but the same 5 dollar profit from a 10,000 dollar investment would be trivial.\n",
    "\n",
    "This is why the simple rate of return is calculated as the absolute gain or loss divided by the starting price of the investment. By expressing the return as a percentage of the originally invested amount, we can more easily compare across different investments.\n",
    "\n",
    "![p](https://i.imgur.com/PQH459U.jpg)\n",
    "\n",
    "![p](https://i.imgur.com/pSM3AMf.jpg)"
   ]
  },
  {
   "cell_type": "markdown",
   "metadata": {},
   "source": [
    "## Logarithmic Rate of Return\n",
    "\n",
    "Another type of return is the logarithmic rate of return, also known as the continuously compounded return. This is the expected return for an investment where the earnings are assumed to be continually reinvested over the time period. It is calculated by taking the difference between the log of the ending price and the log of the starting price.\n",
    "\n",
    "$$ r = log(E) - log(S) = log(E/S) $$\n",
    "\n",
    "In the above formulae,\n",
    "\n",
    "r: logarithmic rate of return\n",
    "\n",
    "S: starting price of investment\n",
    "\n",
    "E: ending price of investment\n",
    "\n",
    "The advantage of the log rate of return is that it is easy to make calculations about a single asset over time. On the other hand, calculating the simple rate of return is easier for dealing with multiple assets over the same time period.\n",
    "\n",
    "![p](https://i.imgur.com/qKwHila.jpg)"
   ]
  },
  {
   "cell_type": "markdown",
   "metadata": {},
   "source": [
    "## Aggregate Across Time\n",
    "\n",
    "When describing the rate of return of an investment, something that is important to keep in mind is the time frame of the investment. For example, an investment with a 2% rate of return over one day is surely not the same as an investment with a 2% rate of return over one month. Thus, it is common to convert returns to a standard time period. Often, this means converting to the annual rate of return in a process called annualizing.\n",
    "\n",
    "As we’ve covered earlier, aggregating across time for a single asset can easily be calculated using the log rate of return.\n",
    "\n",
    "To convert a log rate of return from one time period to another, we can multiple the rate of return by the number of original time periods there are in the new time period.\n",
    "\n",
    "$$ r = r0 * t $$\n",
    "\n",
    "In the above formulae,\n",
    "\n",
    "r: converted log rate of return\n",
    "\n",
    "r0: original log rate of return\n",
    "\n",
    "t: the number of original time periods in the new time period\n",
    "\n",
    "For example, if we are converting daily returns to annual returns, t may be 252 because that is typically the number of trading days in a year. If we are converting monthly returns to annual returns, t would be 12.\n",
    "\n",
    "![p](https://i.imgur.com/uqhnnjl.jpg)\n",
    "\n",
    "![p](https://i.imgur.com/vHU22lO.jpg)"
   ]
  },
  {
   "attachments": {},
   "cell_type": "markdown",
   "metadata": {},
   "source": [
    "Now, let’s look at an extension of the previous conversion formula. Suppose we know the log rate of return for 5 days of a given year. Which daily log return would we use to calculate the annual return?\n",
    "\n",
    "In this case, we can first take the average of the 5 daily log returns, then multiple by 252, the number of trading days in a year. The general formula is:\n",
    "\n",
    "$$ r = (r0+r1+r2+....+rn)/n * t\n",
    "\n",
    "In the above formulae, \n",
    "\n",
    "r: converted log rate of return\n",
    "\n",
    "r0n: the nth log return from the original time period\n",
    "\n",
    "n: the number of returns from the original time period\n",
    "\n",
    "t: the number of original time periods in the new time period\n",
    "\n",
    "Notice how if we only have one log return from the original time period, n equals to 1, and we can simplify the equation to obtain the conversion formula we saw in the previous exercise.\n",
    "\n",
    "On the other hand, if we know the log return for all 252 trading days, then n equals to t, and we will simply be summing up all the log returns across the new time period.\n",
    "\n",
    "![p](https://i.imgur.com/e4K6IDI.jpg)\n",
    "\n",
    "![p](https://i.imgur.com/VPpUkuu.jpg)\n",
    "\n",
    "![p](https://i.imgur.com/bul1Jza.jpg)\n",
    "\n"
   ]
  },
  {
   "cell_type": "markdown",
   "metadata": {},
   "source": [
    "## Aggregate Across Assets\n",
    "\n",
    "Although we will be focusing primarily on individual assets in this lesson, it is important to recognize that these investments often make up the pieces of a larger financial portfolio. Portfolios will be covered more in depth in a future lesson, but let’s get a preview of how to calculate the expected rate of return for an entire portfolio of investments.\n",
    "\n",
    "As we’ve learned earlier, using the simple rate of return makes it easy to aggregate across multiple assets. The portfolio return would simply be the weighted average of each individual asset’s simple rate of return.\n",
    "\n",
    "$$ R = (W1*R1)+(W2*R2)+....+(Wn*Rn)$$\n",
    "\n",
    "In the formula above,\n",
    "\n",
    "R: portfolio simple rate of return\n",
    "\n",
    "Wi: weight of the ith investment in the portfolio\n",
    "\n",
    "Ri: simple rate of return of the ith investment in the portfolio\n",
    "\n",
    "The weights of each asset is obtained by:\n",
    "\n",
    "$$ Wi = Si/(S1+S2+...+Sn) $$\n",
    "\n",
    "In the above formula,\n",
    "\n",
    "Wi: weight of the ith investment in the portfolio\n",
    "\n",
    "Si: starting price of the ith investment in the portfolio"
   ]
  },
  {
   "cell_type": "markdown",
   "metadata": {},
   "source": [
    "## Variance\n",
    "\n",
    "Now that we have a good understanding of rate of return, let’s shift our focus to assessing the risk involved in an investment. One of the key statistics for understanding risk is variance. Variance is a measure of the spread of a dataset, or how far apart each value is from the mean. The greater the variance, the more spread out or variable the data is.\n",
    "\n",
    "For example, let’s take a look at the data below showing the returns of two investments over the course of a week. Which one has a higher variance? What do you think that tells us about their relative risk?\n",
    "\n",
    "Comment -> # Investment A\n",
    "\n",
    "returns_a = [0.05, -0.10, -0.08, 0.05, 0.14]\n",
    "\n",
    "Comment -> # Investment B\n",
    "\n",
    "returns_b = [-0.01, 0.02, 0.01, 0.04, 0.03]\n",
    "\n",
    "As seen, the returns for Investment A fluctuates more throughout the week while the returns for Investment B remain relatively consistent. This means Investment A has a higher variance and therefore a higher risk. An asset with a high variance is generally a riskier one because its return can vary significantly in a short period of time, making it less stable and more unpredictable.\n",
    "\n",
    "The formula for calculating variance is:\n",
    "\n",
    "![p](https://i.imgur.com/qJ3dQpH.jpg)\n",
    "\n",
    "![p](https://i.imgur.com/oYCHIpB.jpg)\n",
    "\n",
    "![p](https://i.imgur.com/G8RM34o.jpg)\n",
    "\n",
    "![p](https://i.imgur.com/DLyNML0.jpg)"
   ]
  },
  {
   "cell_type": "markdown",
   "metadata": {},
   "source": [
    "## Standard Deviation\n",
    "\n",
    "Although the variance is useful in determining the relative risk of an investment, it is sometimes not the easiest statistic to interpret since it does not have the same unit as the original data. As an alternative, it is common to use the standard deviation to describe the spread of the dataset.\n",
    "\n",
    "Standard deviation is simply the square root of the variance. It has the same unit as the original dataset.\n",
    "\n",
    "![p](https://i.imgur.com/pWidIey.jpg)\n",
    "\n",
    "![p](https://i.imgur.com/qk3Fs5k.jpg)\n",
    "\n",
    "![p](https://i.imgur.com/3qAIqNa.jpg)"
   ]
  },
  {
   "cell_type": "markdown",
   "metadata": {},
   "source": [
    "## Correlation \n",
    "\n",
    "Another important statistic for assessing risk is the correlation between the returns of two assets. Correlation is a measure of how closely two datasets are associated with each other. It is often represented by the correlation coefficient, which is a value that ranges between -1 and 1. This indicates whether there is a positive correlation, negative correlation, or no correlation:\n",
    "\n",
    "Positive correlation – when the rate of return of one asset deviates upward from its mean, the other usually deviates upward as well.\n",
    "\n",
    "Negative correlation – when the rate of return of one asset deviates upward from its mean, the other usually deviates downward.\n",
    "\n",
    "No correlation – when a change in one asset’s rate of return does not dictate a change in another. The correlation coefficient will be close to 0.\n",
    "\n",
    "Two assets from the same industry generally have a positive correlation, as they are likely affected by similar external conditions. For example, automobile stocks may all be positively correlated with each other. Oil stocks, on the other hand, may be negatively correlated with automobile stocks because high oil costs can negatively impact car sales.\n",
    "\n",
    "When building a portfolio, it is generally a good idea to include assets that are not correlated with each other. If assets are independent of one another, then there is a lower risk of the financial loss that can occur when assets in a portfolio are correlated. This allows for greater diversification and balances out the overall risk and return of the portfolio.\n",
    "\n",
    "![p](https://i.imgur.com/c5s9vNL.jpg)\n",
    "\n",
    "![p](https://i.imgur.com/4eOTw8n.jpg)"
   ]
  },
  {
   "cell_type": "markdown",
   "metadata": {},
   "source": [
    "![p](https://i.imgur.com/jpIUTwA.jpg)\n",
    "\n",
    "![p](https://i.imgur.com/V9XRoHx.jpg)\n",
    "\n",
    "![p](https://i.imgur.com/STcxKXC.jpg)\n",
    "\n",
    "![p](https://i.imgur.com/3yMZih0.jpg)"
   ]
  },
  {
   "cell_type": "markdown",
   "metadata": {},
   "source": [
    "![p](https://i.imgur.com/u82MU3n.jpg)\n",
    "\n",
    "![p](https://i.imgur.com/LemwRRr.jpg)"
   ]
  }
 ],
 "metadata": {
  "kernelspec": {
   "display_name": "Python 3",
   "language": "python",
   "name": "python3"
  },
  "language_info": {
   "codemirror_mode": {
    "name": "ipython",
    "version": 3
   },
   "file_extension": ".py",
   "mimetype": "text/x-python",
   "name": "python",
   "nbconvert_exporter": "python",
   "pygments_lexer": "ipython3",
   "version": "3.7.4"
  }
 },
 "nbformat": 4,
 "nbformat_minor": 2
}
