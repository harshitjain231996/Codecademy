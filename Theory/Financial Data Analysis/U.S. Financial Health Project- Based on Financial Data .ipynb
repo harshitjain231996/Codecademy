{
 "cells": [
  {
   "cell_type": "markdown",
   "metadata": {},
   "source": [
    "![p](https://i.imgur.com/CLbzPcg.jpg)\n",
    "\n",
    "![p](https://i.imgur.com/ar5LCii.jpg)\n",
    "\n",
    "![p](https://i.imgur.com/igfBCsh.jpg)\n",
    "\n",
    "![p](https://i.imgur.com/v3SWGZv.jpg)\n",
    "\n",
    "![p](https://i.imgur.com/aUVYpzZ.jpg)\n",
    "\n",
    "![p](https://i.imgur.com/pxjr8Jl.jpg)\n",
    "\n",
    "![p](https://i.imgur.com/penymPn.jpg)\n",
    "\n",
    "![p](https://i.imgur.com/vW0FlHM.jpg)\n",
    "\n",
    "![p](https://i.imgur.com/XJhxVUR.jpg)\n",
    "\n",
    "![p](https://i.imgur.com/N00vAUH.jpg)\n",
    "\n",
    "![p](https://i.imgur.com/8GTo76T.jpg)"
   ]
  }
 ],
 "metadata": {
  "kernelspec": {
   "display_name": "Python 3",
   "language": "python",
   "name": "python3"
  },
  "language_info": {
   "codemirror_mode": {
    "name": "ipython",
    "version": 3
   },
   "file_extension": ".py",
   "mimetype": "text/x-python",
   "name": "python",
   "nbconvert_exporter": "python",
   "pygments_lexer": "ipython3",
   "version": "3.7.4"
  }
 },
 "nbformat": 4,
 "nbformat_minor": 2
}
