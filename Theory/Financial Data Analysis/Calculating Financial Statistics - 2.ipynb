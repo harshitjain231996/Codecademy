{
 "cells": [
  {
   "cell_type": "markdown",
   "metadata": {},
   "source": [
    "# Financial Quiz questions and solutions\n",
    "\n",
    "![p](https://i.imgur.com/FHyj3Dd.jpg)\n",
    "\n",
    "![p](https://i.imgur.com/ZtPnesr.jpg)\n",
    "\n",
    "![p](https://i.imgur.com/fRbRn4X.jpg)\n",
    "\n",
    "![p](https://i.imgur.com/Lcpbr0l.jpg)\n",
    "\n",
    "![p](https://i.imgur.com/2AALA4A.jpg)\n",
    "\n",
    "![p](https://i.imgur.com/CIIdBzy.jpg)\n",
    "\n",
    "![p](https://i.imgur.com/xH6xDVe.jpg)\n",
    "\n",
    "![p](https://i.imgur.com/elOvs7E.jpg)\n",
    "\n",
    "![p](https://i.imgur.com/ZgRYHoJ.jpg)\n",
    "\n",
    "![p](https://i.imgur.com/ZqszrXQ.jpg)\n",
    "\n",
    "![p](https://i.imgur.com/grbLxAu.jpg)\n",
    "\n",
    "![p](https://i.imgur.com/Nbzp7J7.jpg)"
   ]
  }
 ],
 "metadata": {
  "kernelspec": {
   "display_name": "Python 3",
   "language": "python",
   "name": "python3"
  },
  "language_info": {
   "codemirror_mode": {
    "name": "ipython",
    "version": 3
   },
   "file_extension": ".py",
   "mimetype": "text/x-python",
   "name": "python",
   "nbconvert_exporter": "python",
   "pygments_lexer": "ipython3",
   "version": "3.7.4"
  }
 },
 "nbformat": 4,
 "nbformat_minor": 2
}
