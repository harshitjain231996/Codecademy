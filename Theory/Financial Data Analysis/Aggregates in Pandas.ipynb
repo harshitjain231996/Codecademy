{
 "cells": [
  {
   "cell_type": "markdown",
   "metadata": {},
   "source": [
    "An aggregate statistic is a way of creating a single number that describes a group of numbers. Common aggregate statistics include mean, median, or standard deviation.\n",
    "\n",
    "![p](https://i.imgur.com/XOmi2Ay.jpg)\n",
    "\n",
    "![p](https://i.imgur.com/bGlZwST.jpg)\n",
    "\n",
    "![p](https://i.imgur.com/qaW2Cbe.jpg)"
   ]
  },
  {
   "cell_type": "markdown",
   "metadata": {},
   "source": [
    "## Calculating Column Statistics\n",
    "\n",
    "![p](https://i.imgur.com/8OX7QiE.jpg)"
   ]
  },
  {
   "cell_type": "markdown",
   "metadata": {},
   "source": [
    "## Calculating Aggregate Functions\n",
    "\n",
    "When we have a bunch of data, we often want to calculate aggregate statistics (mean, standard deviation, median, percentiles, etc.) over certain subsets of the data.\n",
    "\n",
    "In general, we use the following syntax to calculate aggregates:\n",
    "\n",
    "df.groupby('column1').column2.measurement()\n",
    "\n",
    "where:\n",
    "\n",
    "column1 is the column that we want to group by ('student' in our example)\n",
    "\n",
    "column2 is the column that we want to perform a measurement on (grade in our example)\n",
    "\n",
    "measurement is the measurement function we want to apply (mean in our example)\n",
    "\n",
    "![p](https://i.imgur.com/5aVE8c1.jpg)\n",
    "\n",
    "After using groupby, we often need to clean our resulting data.\n",
    "\n",
    "As we saw in the previous exercise, the groupby function creates a new Series, not a DataFrame. For our ShoeFly.com example, the indices of the Series were different values of shoe_type, and the name property was price.\n",
    "\n",
    "Usually, we’d prefer that those indices were actually a column. In order to get that, we can use reset_index(). This will transform our Series into a DataFrame and move the indices into their own column.\n",
    "\n",
    "Generally, you’ll always see a groupby statement followed by reset_index:\n",
    "\n",
    "df.groupby('column1').column2.measurement()\n",
    "    .reset_index()\n",
    "    \n",
    "When we use groupby, we often want to rename the column we get as a result.\n",
    "\n",
    "![p](https://i.imgur.com/KPNPWxe.jpg)\n",
    "\n",
    "![p](https://i.imgur.com/OWfVHOA.jpg)\n",
    "\n",
    "![p](https://i.imgur.com/5hDBewG.jpg)\n",
    "\n",
    "![p](https://i.imgur.com/Dtq7PGq.jpg)"
   ]
  },
  {
   "cell_type": "markdown",
   "metadata": {},
   "source": [
    "Sometimes, the operation that you want to perform is more complicated than mean or count. In those cases, you can use the apply method and lambda functions, just like we did for individual column operations. Note that the input to our lambda function will always be a list of values.\n",
    "\n",
    "A great example of this is calculating percentiles. Suppose we have a DataFrame of employee information called df that has the following columns:\n",
    "\n",
    "id: the employee’s id number\n",
    "\n",
    "name: the employee’s name\n",
    "\n",
    "wage: the employee’s hourly wage\n",
    "\n",
    "category: the type of work that the employee does\n",
    "\n",
    "![p](https://i.imgur.com/2Z3bVad.jpg)\n",
    "\n",
    "![p](https://i.imgur.com/UNfOkER.jpg)\n",
    "\n",
    "![p](https://i.imgur.com/W6qL67W.jpg)\n",
    "\n",
    "![p](https://i.imgur.com/4kG1fZV.jpg)"
   ]
  },
  {
   "cell_type": "markdown",
   "metadata": {},
   "source": [
    "Sometimes, we want to group by more than one column. We can easily do this by passing a list of column names into the groupby method.\n",
    "\n",
    "![p](https://i.imgur.com/dG5F4YV.jpg)\n",
    "\n",
    "![p](https://i.imgur.com/QAwjJPX.jpg)"
   ]
  },
  {
   "cell_type": "markdown",
   "metadata": {},
   "source": [
    "## Pivot Tables\n",
    "\n",
    "When we perform a groupby across multiple columns, we often want to change how our data is stored.\n",
    "\n",
    "![p](https://i.imgur.com/9EQZirN.jpg)\n",
    "\n",
    "![p](https://i.imgur.com/rVQb82C.jpg)\n",
    "\n",
    "![p](https://i.imgur.com/TNE4X6P.jpg)\n",
    "\n",
    "![p](https://i.imgur.com/ISKGrS6.jpg)"
   ]
  },
  {
   "cell_type": "markdown",
   "metadata": {},
   "source": [
    "## Quiz on the same\n",
    "\n",
    "![p](https://i.imgur.com/3uf8Hos.jpg)\n",
    "\n",
    "![p](https://i.imgur.com/7AjAgCJ.jpg)\n",
    "\n",
    "![p](https://i.imgur.com/8wNiIQc.jpg)\n",
    "\n",
    "![p](https://i.imgur.com/HUQQyUQ.jpg)\n",
    "\n",
    "![p](https://i.imgur.com/rOtHrrp.jpg)"
   ]
  }
 ],
 "metadata": {
  "kernelspec": {
   "display_name": "Python 3",
   "language": "python",
   "name": "python3"
  },
  "language_info": {
   "codemirror_mode": {
    "name": "ipython",
    "version": 3
   },
   "file_extension": ".py",
   "mimetype": "text/x-python",
   "name": "python",
   "nbconvert_exporter": "python",
   "pygments_lexer": "ipython3",
   "version": "3.7.4"
  }
 },
 "nbformat": 4,
 "nbformat_minor": 2
}
