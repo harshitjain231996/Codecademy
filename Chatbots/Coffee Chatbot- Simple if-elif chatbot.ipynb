{
 "cells": [
  {
   "cell_type": "code",
   "execution_count": 5,
   "metadata": {},
   "outputs": [
    {
     "name": "stdout",
     "output_type": "stream",
     "text": [
      "Welcome to the cafe!\n",
      "What size drink can I get for you? \n",
      "[a] Small \n",
      "[b] Medium \n",
      "[c] Large \n",
      "> c\n",
      "Large\n",
      "What type of drink would you like? \n",
      "[a] Brewed Coffee \n",
      "[b] Mocha \n",
      "[c] Latte \n",
      ">c\n",
      "Latte\n",
      "Can I get your name please?Harshit\n",
      "Alright, that's a Large Latte!\n",
      "Thanks, Harshit! Your drink will be ready shortly.\n"
     ]
    }
   ],
   "source": [
    "# Define your functions\n",
    "def coffee_bot():\n",
    "  print(\"Welcome to the cafe!\")\n",
    "  size = get_size()\n",
    "  print (size)\n",
    "  drink_type = get_drink_type()\n",
    "  print(drink_type)\n",
    "  #return size,res\n",
    "  name = input(\"Can I get your name please?\")\n",
    "  print(f\"Alright, that's a {size} {drink_type}!\")\n",
    "  print(f\"Thanks, {name}! Your drink will be ready shortly.\")\n",
    "def print_message():\n",
    "  print(\"I'm sorry, I did not understand your selection. Please enter the corresponding letter for your response.\")\n",
    "\n",
    "def order_latte():\n",
    "  res = input(\"And what kind of milk for your latte? \\n [a] 2% milk \\n [b] Non-fat milk \\n [c] Soy milk\")\n",
    "  if (res ==\"a\"):\n",
    "    return(\"Latte\")\n",
    "  elif(res ==\"b\"):\n",
    "    return (\"Non-Fat Latte\")\n",
    "  elif(res ==\"c\"):\n",
    "    return(\"Soy Latte\")\n",
    "  else:\n",
    "    print_message()\n",
    "    order_latte()\n",
    "def get_drink_type():\n",
    "    res = input(\"What type of drink would you like? \\n[a] Brewed Coffee \\n[b] Mocha \\n[c] Latte \\n>\")\n",
    "    if (res ==\"a\"):\n",
    "      return (\"Brewed Coffee\")\n",
    "    elif(res ==\"b\"):\n",
    "      return (\"Mocha\")\n",
    "    elif (res ==\"c\"):\n",
    "      return (\"Latte\")\n",
    "    elif(res ==\"latte\"):\n",
    "      order_latte()\n",
    "    else:\n",
    "      print_message()\n",
    "def get_size():\n",
    "  res = input('What size drink can I get for you? \\n[a] Small \\n[b] Medium \\n[c] Large \\n> ')\n",
    "  if(res == \"a\"):\n",
    "    return (\"small\")\n",
    "  elif(res == \"b\"):\n",
    "    return (\"Medium\")\n",
    "  elif(res == \"c\"):\n",
    "    return (\"Large\")\n",
    "  else:\n",
    "    print_message()\n",
    "    get_size()\n",
    "  #return(res)\n",
    "  #print(res)\n",
    " # Call coffee_bot()!\n",
    "coffee_bot()\n",
    "#print(drink_type)"
   ]
  },
  {
   "cell_type": "code",
   "execution_count": null,
   "metadata": {},
   "outputs": [],
   "source": []
  }
 ],
 "metadata": {
  "kernelspec": {
   "display_name": "Python 3",
   "language": "python",
   "name": "python3"
  },
  "language_info": {
   "codemirror_mode": {
    "name": "ipython",
    "version": 3
   },
   "file_extension": ".py",
   "mimetype": "text/x-python",
   "name": "python",
   "nbconvert_exporter": "python",
   "pygments_lexer": "ipython3",
   "version": "3.7.4"
  }
 },
 "nbformat": 4,
 "nbformat_minor": 2
}
