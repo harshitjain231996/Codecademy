{
 "cells": [
  {
   "cell_type": "markdown",
   "metadata": {},
   "source": [
    "![i](https://i.imgur.com/RBKGJzt.jpg)\n",
    "\n",
    "![i](https://i.imgur.com/OtRO0Sp.jpg)\n",
    "\n",
    "![i](https://i.imgur.com/2Js94wR.jpg)\n",
    "\n",
    "![i](https://i.imgur.com/RBKGJzt.jpg)\n",
    "\n",
    "![i](https://i.imgur.com/lbYqdGA.jpg)\n",
    "\n",
    "![i](https://i.imgur.com/FhEy8R4.jpg)\n",
    "\n",
    "![i](https://i.imgur.com/Ydc9E7k.jpg)"
   ]
  },
  {
   "cell_type": "code",
   "execution_count": null,
   "metadata": {},
   "outputs": [],
   "source": []
  }
 ],
 "metadata": {
  "kernelspec": {
   "display_name": "Python 3",
   "language": "python",
   "name": "python3"
  },
  "language_info": {
   "codemirror_mode": {
    "name": "ipython",
    "version": 3
   },
   "file_extension": ".py",
   "mimetype": "text/x-python",
   "name": "python",
   "nbconvert_exporter": "python",
   "pygments_lexer": "ipython3",
   "version": "3.7.4"
  }
 },
 "nbformat": 4,
 "nbformat_minor": 2
}
